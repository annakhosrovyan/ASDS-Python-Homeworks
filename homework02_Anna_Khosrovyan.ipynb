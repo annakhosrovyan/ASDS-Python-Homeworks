{
  "nbformat": 4,
  "nbformat_minor": 0,
  "metadata": {
    "colab": {
      "provenance": []
    },
    "kernelspec": {
      "name": "python3",
      "display_name": "Python 3"
    },
    "language_info": {
      "name": "python"
    }
  },
  "cells": [
    {
      "cell_type": "markdown",
      "source": [
        "# Homework 02\n",
        "## Name: Anna Khosrovyan\n"
      ],
      "metadata": {
        "id": "QzMe_T1839l_"
      }
    },
    {
      "cell_type": "code",
      "source": [
        "import math\n",
        "import time\n",
        "import random\n",
        "\n",
        "from typing import Tuple, Union, Any, cast, List, Iterator"
      ],
      "metadata": {
        "id": "f2ABoaCuy7Qo"
      },
      "execution_count": 2,
      "outputs": []
    },
    {
      "cell_type": "markdown",
      "source": [
        "### Problem 1\n"
      ],
      "metadata": {
        "id": "02O3ICWT4B46"
      }
    },
    {
      "cell_type": "markdown",
      "source": [
        "Write a `BankAccount` class in Python, which models a bank account of a customer. The class should consist of the following components:\n",
        "\n",
        "- **Properties**\n",
        "    - `id`: A unique identifier for an account.\n",
        "    - `name`: The full name of a customer.\n",
        "    - `balance`: The balance of an account, which should be 0 by default.\n",
        "\n",
        "    Getters and setters should be defined for the properties.\n",
        "\n",
        "- **Methods**\n",
        "    - It should be possible to initialize an instance either with initial balance or without initial balance.\n",
        "    - Friendly string representation for an account should be implemented.\n",
        "    - `deposit(amount)`: adds the given amount to the current balance.\n",
        "    - `withdraw(amount)`: subtracts the given amount from the current balance. If there are insufficient funds, it should raise an error (`ValueError` can be used).\n",
        "    - `transfer_to(another_account, amount)`: transfers the given amount from the current account to the given account. If there are insufficient funds, it should raise an error (`ValueError` can be used)."
      ],
      "metadata": {
        "id": "JQsPRMi54Tjd"
      }
    },
    {
      "cell_type": "code",
      "source": [
        "class BankAccount:\n",
        "    def __init__(self,\n",
        "                 id: int,\n",
        "                 name: str,\n",
        "                 balance: float = 0.0\n",
        "                 ) -> None:\n",
        "\n",
        "        self._id: int = id\n",
        "        self._name: str = name\n",
        "        self._balance: float = balance\n",
        "\n",
        "    def __str__(self) -> str:\n",
        "        return f\"BankAccount(id={self._id}, name={self._name}, balance={self._balance})\"\n",
        "\n",
        "    __repr__ = __str__\n",
        "\n",
        "    @property\n",
        "    def id(self) -> int:\n",
        "        return self._id\n",
        "\n",
        "    @id.setter\n",
        "    def id(self, value: int) -> None:\n",
        "        self._id = value\n",
        "\n",
        "    @property\n",
        "    def name(self) -> str:\n",
        "        return self._name\n",
        "\n",
        "    @name.setter\n",
        "    def name(self, value: str) -> None:\n",
        "        self._name = value\n",
        "\n",
        "    @property\n",
        "    def balance(self) -> float:\n",
        "        return self._balance\n",
        "\n",
        "    @balance.setter\n",
        "    def balance(self, value: float) -> None:\n",
        "        self._balance = value\n",
        "\n",
        "    def deposit(self, amount: float) -> None:\n",
        "        if amount <= 0:\n",
        "            raise ValueError(\"Deposit amount must be positive\")\n",
        "        self.balance += amount\n",
        "\n",
        "    def withdraw(self, amount: float) -> None:\n",
        "        if amount <= 0:\n",
        "            raise ValueError(\"Withdrawal amount must be positive\")\n",
        "        elif amount > self.balance:\n",
        "            raise ValueError(\"Insufficient funds\")\n",
        "        self.balance -= amount\n",
        "\n",
        "    def transfer_to(self, another_account: \"BankAccount\", amount: float) -> None:\n",
        "        if amount <= 0:\n",
        "            raise ValueError(\"Transfer amount must be positive\")\n",
        "        self.withdraw(amount)\n",
        "        another_account.deposit(amount)"
      ],
      "metadata": {
        "id": "o9CzerBO352e"
      },
      "execution_count": 3,
      "outputs": []
    },
    {
      "cell_type": "code",
      "source": [
        "account_1 = BankAccount(1, \"John Doe\")\n",
        "account_2 = BankAccount(2, \"Jane Dane\", 1000)\n",
        "\n",
        "print(account_1) # BankAccount(id=1, name=\"John Doe\", balance=0)\n",
        "print(account_2) # BankAccount(id=2, name=\"Jane Dane\", balance=1000)"
      ],
      "metadata": {
        "colab": {
          "base_uri": "https://localhost:8080/"
        },
        "id": "x_6Effzp8IKu",
        "outputId": "965476d7-0d19-4bfb-fb83-ac7b218b5560"
      },
      "execution_count": 4,
      "outputs": [
        {
          "output_type": "stream",
          "name": "stdout",
          "text": [
            "BankAccount(id=1, name=John Doe, balance=0.0)\n",
            "BankAccount(id=2, name=Jane Dane, balance=1000)\n"
          ]
        }
      ]
    },
    {
      "cell_type": "code",
      "source": [
        "account_1.deposit(500)\n",
        "print(account_1) # BankAccount(id=1, name=\"John Doe\", balance=500)\n",
        "account_1.withdraw(600) # raises an error"
      ],
      "metadata": {
        "colab": {
          "base_uri": "https://localhost:8080/",
          "height": 315
        },
        "id": "O5npFkGq8LmP",
        "outputId": "6f4a8063-872d-4d26-eed4-fbab82798592"
      },
      "execution_count": 5,
      "outputs": [
        {
          "output_type": "stream",
          "name": "stdout",
          "text": [
            "BankAccount(id=1, name=John Doe, balance=500.0)\n"
          ]
        },
        {
          "output_type": "error",
          "ename": "ValueError",
          "evalue": "Insufficient funds",
          "traceback": [
            "\u001b[0;31m---------------------------------------------------------------------------\u001b[0m",
            "\u001b[0;31mValueError\u001b[0m                                Traceback (most recent call last)",
            "\u001b[0;32m<ipython-input-5-892739606c8e>\u001b[0m in \u001b[0;36m<cell line: 0>\u001b[0;34m()\u001b[0m\n\u001b[1;32m      1\u001b[0m \u001b[0maccount_1\u001b[0m\u001b[0;34m.\u001b[0m\u001b[0mdeposit\u001b[0m\u001b[0;34m(\u001b[0m\u001b[0;36m500\u001b[0m\u001b[0;34m)\u001b[0m\u001b[0;34m\u001b[0m\u001b[0;34m\u001b[0m\u001b[0m\n\u001b[1;32m      2\u001b[0m \u001b[0mprint\u001b[0m\u001b[0;34m(\u001b[0m\u001b[0maccount_1\u001b[0m\u001b[0;34m)\u001b[0m \u001b[0;31m# BankAccount(id=1, name=\"John Doe\", balance=500)\u001b[0m\u001b[0;34m\u001b[0m\u001b[0;34m\u001b[0m\u001b[0m\n\u001b[0;32m----> 3\u001b[0;31m \u001b[0maccount_1\u001b[0m\u001b[0;34m.\u001b[0m\u001b[0mwithdraw\u001b[0m\u001b[0;34m(\u001b[0m\u001b[0;36m600\u001b[0m\u001b[0;34m)\u001b[0m \u001b[0;31m# raises an error\u001b[0m\u001b[0;34m\u001b[0m\u001b[0;34m\u001b[0m\u001b[0m\n\u001b[0m",
            "\u001b[0;32m<ipython-input-3-ac21175838ed>\u001b[0m in \u001b[0;36mwithdraw\u001b[0;34m(self, amount)\u001b[0m\n\u001b[1;32m     48\u001b[0m             \u001b[0;32mraise\u001b[0m \u001b[0mValueError\u001b[0m\u001b[0;34m(\u001b[0m\u001b[0;34m\"Withdrawal amount must be positive\"\u001b[0m\u001b[0;34m)\u001b[0m\u001b[0;34m\u001b[0m\u001b[0;34m\u001b[0m\u001b[0m\n\u001b[1;32m     49\u001b[0m         \u001b[0;32melif\u001b[0m \u001b[0mamount\u001b[0m \u001b[0;34m>\u001b[0m \u001b[0mself\u001b[0m\u001b[0;34m.\u001b[0m\u001b[0mbalance\u001b[0m\u001b[0;34m:\u001b[0m\u001b[0;34m\u001b[0m\u001b[0;34m\u001b[0m\u001b[0m\n\u001b[0;32m---> 50\u001b[0;31m             \u001b[0;32mraise\u001b[0m \u001b[0mValueError\u001b[0m\u001b[0;34m(\u001b[0m\u001b[0;34m\"Insufficient funds\"\u001b[0m\u001b[0;34m)\u001b[0m\u001b[0;34m\u001b[0m\u001b[0;34m\u001b[0m\u001b[0m\n\u001b[0m\u001b[1;32m     51\u001b[0m         \u001b[0mself\u001b[0m\u001b[0;34m.\u001b[0m\u001b[0mbalance\u001b[0m \u001b[0;34m-=\u001b[0m \u001b[0mamount\u001b[0m\u001b[0;34m\u001b[0m\u001b[0;34m\u001b[0m\u001b[0m\n\u001b[1;32m     52\u001b[0m \u001b[0;34m\u001b[0m\u001b[0m\n",
            "\u001b[0;31mValueError\u001b[0m: Insufficient funds"
          ]
        }
      ]
    },
    {
      "cell_type": "code",
      "source": [
        "account_2.transfer_to(account_1, 250)\n",
        "print(account_1) # BankAccount(id=1, name=\"John Doe\", balance=750)\n",
        "print(account_2) # BankAccount(id=2, name=\"Jane Dane\", balance=750)\n",
        "account_2.transfer_to(account_1, 800) # raises an error"
      ],
      "metadata": {
        "colab": {
          "base_uri": "https://localhost:8080/",
          "height": 356
        },
        "id": "fGXG2Cry8EgY",
        "outputId": "3c0bbb8c-00c8-4e0b-8f45-a101163accf2"
      },
      "execution_count": 6,
      "outputs": [
        {
          "output_type": "stream",
          "name": "stdout",
          "text": [
            "BankAccount(id=1, name=John Doe, balance=750.0)\n",
            "BankAccount(id=2, name=Jane Dane, balance=750)\n"
          ]
        },
        {
          "output_type": "error",
          "ename": "ValueError",
          "evalue": "Insufficient funds",
          "traceback": [
            "\u001b[0;31m---------------------------------------------------------------------------\u001b[0m",
            "\u001b[0;31mValueError\u001b[0m                                Traceback (most recent call last)",
            "\u001b[0;32m<ipython-input-6-83cc33de3799>\u001b[0m in \u001b[0;36m<cell line: 0>\u001b[0;34m()\u001b[0m\n\u001b[1;32m      2\u001b[0m \u001b[0mprint\u001b[0m\u001b[0;34m(\u001b[0m\u001b[0maccount_1\u001b[0m\u001b[0;34m)\u001b[0m \u001b[0;31m# BankAccount(id=1, name=\"John Doe\", balance=750)\u001b[0m\u001b[0;34m\u001b[0m\u001b[0;34m\u001b[0m\u001b[0m\n\u001b[1;32m      3\u001b[0m \u001b[0mprint\u001b[0m\u001b[0;34m(\u001b[0m\u001b[0maccount_2\u001b[0m\u001b[0;34m)\u001b[0m \u001b[0;31m# BankAccount(id=2, name=\"Jane Dane\", balance=750)\u001b[0m\u001b[0;34m\u001b[0m\u001b[0;34m\u001b[0m\u001b[0m\n\u001b[0;32m----> 4\u001b[0;31m \u001b[0maccount_2\u001b[0m\u001b[0;34m.\u001b[0m\u001b[0mtransfer_to\u001b[0m\u001b[0;34m(\u001b[0m\u001b[0maccount_1\u001b[0m\u001b[0;34m,\u001b[0m \u001b[0;36m800\u001b[0m\u001b[0;34m)\u001b[0m \u001b[0;31m# raises an error\u001b[0m\u001b[0;34m\u001b[0m\u001b[0;34m\u001b[0m\u001b[0m\n\u001b[0m",
            "\u001b[0;32m<ipython-input-3-ac21175838ed>\u001b[0m in \u001b[0;36mtransfer_to\u001b[0;34m(self, another_account, amount)\u001b[0m\n\u001b[1;32m     54\u001b[0m         \u001b[0;32mif\u001b[0m \u001b[0mamount\u001b[0m \u001b[0;34m<=\u001b[0m \u001b[0;36m0\u001b[0m\u001b[0;34m:\u001b[0m\u001b[0;34m\u001b[0m\u001b[0;34m\u001b[0m\u001b[0m\n\u001b[1;32m     55\u001b[0m             \u001b[0;32mraise\u001b[0m \u001b[0mValueError\u001b[0m\u001b[0;34m(\u001b[0m\u001b[0;34m\"Transfer amount must be positive\"\u001b[0m\u001b[0;34m)\u001b[0m\u001b[0;34m\u001b[0m\u001b[0;34m\u001b[0m\u001b[0m\n\u001b[0;32m---> 56\u001b[0;31m         \u001b[0mself\u001b[0m\u001b[0;34m.\u001b[0m\u001b[0mwithdraw\u001b[0m\u001b[0;34m(\u001b[0m\u001b[0mamount\u001b[0m\u001b[0;34m)\u001b[0m\u001b[0;34m\u001b[0m\u001b[0;34m\u001b[0m\u001b[0m\n\u001b[0m\u001b[1;32m     57\u001b[0m         \u001b[0manother_account\u001b[0m\u001b[0;34m.\u001b[0m\u001b[0mdeposit\u001b[0m\u001b[0;34m(\u001b[0m\u001b[0mamount\u001b[0m\u001b[0;34m)\u001b[0m\u001b[0;34m\u001b[0m\u001b[0;34m\u001b[0m\u001b[0m\n",
            "\u001b[0;32m<ipython-input-3-ac21175838ed>\u001b[0m in \u001b[0;36mwithdraw\u001b[0;34m(self, amount)\u001b[0m\n\u001b[1;32m     48\u001b[0m             \u001b[0;32mraise\u001b[0m \u001b[0mValueError\u001b[0m\u001b[0;34m(\u001b[0m\u001b[0;34m\"Withdrawal amount must be positive\"\u001b[0m\u001b[0;34m)\u001b[0m\u001b[0;34m\u001b[0m\u001b[0;34m\u001b[0m\u001b[0m\n\u001b[1;32m     49\u001b[0m         \u001b[0;32melif\u001b[0m \u001b[0mamount\u001b[0m \u001b[0;34m>\u001b[0m \u001b[0mself\u001b[0m\u001b[0;34m.\u001b[0m\u001b[0mbalance\u001b[0m\u001b[0;34m:\u001b[0m\u001b[0;34m\u001b[0m\u001b[0;34m\u001b[0m\u001b[0m\n\u001b[0;32m---> 50\u001b[0;31m             \u001b[0;32mraise\u001b[0m \u001b[0mValueError\u001b[0m\u001b[0;34m(\u001b[0m\u001b[0;34m\"Insufficient funds\"\u001b[0m\u001b[0;34m)\u001b[0m\u001b[0;34m\u001b[0m\u001b[0;34m\u001b[0m\u001b[0m\n\u001b[0m\u001b[1;32m     51\u001b[0m         \u001b[0mself\u001b[0m\u001b[0;34m.\u001b[0m\u001b[0mbalance\u001b[0m \u001b[0;34m-=\u001b[0m \u001b[0mamount\u001b[0m\u001b[0;34m\u001b[0m\u001b[0;34m\u001b[0m\u001b[0m\n\u001b[1;32m     52\u001b[0m \u001b[0;34m\u001b[0m\u001b[0m\n",
            "\u001b[0;31mValueError\u001b[0m: Insufficient funds"
          ]
        }
      ]
    },
    {
      "cell_type": "markdown",
      "source": [
        "### Problem 2\n"
      ],
      "metadata": {
        "id": "KlkaPT2-4Cw3"
      }
    },
    {
      "cell_type": "markdown",
      "source": [
        "Write a superclass `Shape` and its subclasses `Circle` and `Rectangle` in Python.\n",
        "\n",
        "- The `Shape` class should consist of the following components:\n",
        "    - **Properties**\n",
        "        - `color`: A color that indicates the color of a shape.\n",
        "        - `is_filled`: A boolean flag that indicates if a shape is filled or not.\n",
        "\n",
        "        Getters and setters should be defined for the properties.\n",
        "\n",
        "    - **Methods**\n",
        "        - It should be possible to initialize an instance by providing a color and whether the shape is filled or not.\n",
        "        - Friendly string representation for a shape should be implemented.\n",
        "        - `calculate_area()`: It should raise an error (`NotImplementedError` can be used).\n",
        "        - `calculate_perimeter()`: It should raise an error (`NotImplementedError` can be used).\n",
        "\n",
        "- The `Circle` class derives from the `Shape` class and should consist of the following components:\n",
        "    - **Properties**\n",
        "        - `radius`: The circle's radius.\n",
        "\n",
        "        Getters and setters should be defined for the properties.\n",
        "\n",
        "    - **Methods**\n",
        "        - It should be possible to initialize an instance by providing a radius, a color, and whether the circle is filled or not.\n",
        "        - Friendly string representation for a circle should be implemented.\n",
        "        - `calculate_area()`: It should return the area of a circle.\n",
        "        - `calculate_perimeter()`: It should return the perimeter of a circle.\n",
        "\n",
        "- The `Rectangle` class derives from the `Shape` class and should consist of the following components:\n",
        "    - **Properties**\n",
        "        - `width`: The rectangle's width.\n",
        "        - `length`: The rectangle's length.\n",
        "\n",
        "        Getters and setters should be defined for the properties.\n",
        "\n",
        "    - **Methods**\n",
        "        - It should be possible to initialize an instance by providing a width, length, a color, and whether the circle is filled or not.\n",
        "        - Friendly string representation for a rectangle should be implemented.\n",
        "        - `calculate_area()`: It should return the area of a rectangle.\n",
        "        - `calculate_perimeter()`: It should return the perimeter of a rectangle."
      ],
      "metadata": {
        "id": "huoria5VF14X"
      }
    },
    {
      "cell_type": "code",
      "source": [
        "class Shape:\n",
        "    def __init__(self,\n",
        "                 color: str,\n",
        "                 is_filled: bool\n",
        "                 ) -> None:\n",
        "\n",
        "        self._color = color\n",
        "        self._is_filled = is_filled\n",
        "\n",
        "    @property\n",
        "    def color(self) -> str:\n",
        "        return self._color\n",
        "\n",
        "    @color.setter\n",
        "    def color(self, value: str) -> None:\n",
        "        self._color = value\n",
        "\n",
        "    @property\n",
        "    def is_filled(self) -> bool:\n",
        "        return self._is_filled\n",
        "\n",
        "    @is_filled.setter\n",
        "    def is_filled(self, value: bool) -> None:\n",
        "        self._is_filled = value\n",
        "\n",
        "    def __str__(self) -> str:\n",
        "        return f'Shape(color=\"{self.color}\", is_filled={self.is_filled})'\n",
        "\n",
        "    def calculate_area(self) -> float:\n",
        "        raise NotImplementedError(\"Subclasses must implement calculate_area.\")\n",
        "\n",
        "    def calculate_perimeter(self) -> float:\n",
        "        raise NotImplementedError(\"Subclasses must implement calculate_perimeter.\")"
      ],
      "metadata": {
        "id": "tjoK4k0o35zA"
      },
      "execution_count": 7,
      "outputs": []
    },
    {
      "cell_type": "code",
      "source": [
        "class Circle(Shape):\n",
        "    def __init__(self,\n",
        "                 color: str,\n",
        "                 is_filled: bool,\n",
        "                 radius: float\n",
        "                 ) -> None:\n",
        "\n",
        "        super().__init__(color, is_filled)\n",
        "        self._radius = radius\n",
        "\n",
        "    @property\n",
        "    def radius(self) -> float:\n",
        "        return self._radius\n",
        "\n",
        "    @radius.setter\n",
        "    def radius(self, value: float) -> None:\n",
        "        self._radius = value\n",
        "\n",
        "    def calculate_area(self) -> float:\n",
        "        return round(math.pi * (self.radius ** 2), 2)\n",
        "\n",
        "    def calculate_perimeter(self) -> float:\n",
        "        return round(2 * math.pi * self.radius, 2)\n",
        "\n",
        "    def __str__(self) -> str:\n",
        "        return (f'Circle(color={self.color}, is_filled={self.is_filled}, radius={self.radius})')"
      ],
      "metadata": {
        "id": "ViNJxW8LGqF5"
      },
      "execution_count": 8,
      "outputs": []
    },
    {
      "cell_type": "code",
      "source": [
        "class Rectangle(Shape):\n",
        "    def __init__(self,\n",
        "                 color: str,\n",
        "                 is_filled: bool,\n",
        "                 width: float,\n",
        "                 length: float\n",
        "                 ) -> None:\n",
        "\n",
        "        super().__init__(color, is_filled)\n",
        "        self._width = width\n",
        "        self._length = length\n",
        "\n",
        "    @property\n",
        "    def width(self) -> float:\n",
        "        return self._width\n",
        "\n",
        "    @width.setter\n",
        "    def width(self, value: float) -> None:\n",
        "        self._width = value\n",
        "\n",
        "    @property\n",
        "    def length(self) -> float:\n",
        "        return self._length\n",
        "\n",
        "    @length.setter\n",
        "    def length(self, value: float) -> None:\n",
        "        self._length = value\n",
        "\n",
        "    def calculate_area(self) -> float:\n",
        "        return round(self.width * self.length, 2)\n",
        "\n",
        "    def calculate_perimeter(self) -> float:\n",
        "        return round(2 * (self.width + self.length), 2)\n",
        "\n",
        "    def __str__(self) -> str:\n",
        "        return (f'Rectangle(color={self.color}, is_filled={self.is_filled}, width={self.width}, length={self.length})')"
      ],
      "metadata": {
        "id": "dRqpS2J6Hat7"
      },
      "execution_count": 9,
      "outputs": []
    },
    {
      "cell_type": "code",
      "source": [
        "shape = Shape(\"red\", True)\n",
        "print(shape) # Shape(color=\"red\", is_filled=True)"
      ],
      "metadata": {
        "colab": {
          "base_uri": "https://localhost:8080/"
        },
        "id": "_rMUUNISLB--",
        "outputId": "60416b80-06a6-416f-beac-34b796994e84"
      },
      "execution_count": 10,
      "outputs": [
        {
          "output_type": "stream",
          "name": "stdout",
          "text": [
            "Shape(color=\"red\", is_filled=True)\n"
          ]
        }
      ]
    },
    {
      "cell_type": "code",
      "source": [
        "shape.calculate_area() # raises an error"
      ],
      "metadata": {
        "colab": {
          "base_uri": "https://localhost:8080/",
          "height": 263
        },
        "id": "NdCJo70XLDj1",
        "outputId": "77c87e2a-a576-4813-cfd8-d11e19150c6e"
      },
      "execution_count": 11,
      "outputs": [
        {
          "output_type": "error",
          "ename": "NotImplementedError",
          "evalue": "Subclasses must implement calculate_area.",
          "traceback": [
            "\u001b[0;31m---------------------------------------------------------------------------\u001b[0m",
            "\u001b[0;31mNotImplementedError\u001b[0m                       Traceback (most recent call last)",
            "\u001b[0;32m<ipython-input-11-bfd0f77605b9>\u001b[0m in \u001b[0;36m<cell line: 0>\u001b[0;34m()\u001b[0m\n\u001b[0;32m----> 1\u001b[0;31m \u001b[0mshape\u001b[0m\u001b[0;34m.\u001b[0m\u001b[0mcalculate_area\u001b[0m\u001b[0;34m(\u001b[0m\u001b[0;34m)\u001b[0m \u001b[0;31m# raises an error\u001b[0m\u001b[0;34m\u001b[0m\u001b[0;34m\u001b[0m\u001b[0m\n\u001b[0m",
            "\u001b[0;32m<ipython-input-7-95d02e756a3e>\u001b[0m in \u001b[0;36mcalculate_area\u001b[0;34m(self)\u001b[0m\n\u001b[1;32m     28\u001b[0m \u001b[0;34m\u001b[0m\u001b[0m\n\u001b[1;32m     29\u001b[0m     \u001b[0;32mdef\u001b[0m \u001b[0mcalculate_area\u001b[0m\u001b[0;34m(\u001b[0m\u001b[0mself\u001b[0m\u001b[0;34m)\u001b[0m \u001b[0;34m->\u001b[0m \u001b[0mfloat\u001b[0m\u001b[0;34m:\u001b[0m\u001b[0;34m\u001b[0m\u001b[0;34m\u001b[0m\u001b[0m\n\u001b[0;32m---> 30\u001b[0;31m         \u001b[0;32mraise\u001b[0m \u001b[0mNotImplementedError\u001b[0m\u001b[0;34m(\u001b[0m\u001b[0;34m\"Subclasses must implement calculate_area.\"\u001b[0m\u001b[0;34m)\u001b[0m\u001b[0;34m\u001b[0m\u001b[0;34m\u001b[0m\u001b[0m\n\u001b[0m\u001b[1;32m     31\u001b[0m \u001b[0;34m\u001b[0m\u001b[0m\n\u001b[1;32m     32\u001b[0m     \u001b[0;32mdef\u001b[0m \u001b[0mcalculate_perimeter\u001b[0m\u001b[0;34m(\u001b[0m\u001b[0mself\u001b[0m\u001b[0;34m)\u001b[0m \u001b[0;34m->\u001b[0m \u001b[0mfloat\u001b[0m\u001b[0;34m:\u001b[0m\u001b[0;34m\u001b[0m\u001b[0;34m\u001b[0m\u001b[0m\n",
            "\u001b[0;31mNotImplementedError\u001b[0m: Subclasses must implement calculate_area."
          ]
        }
      ]
    },
    {
      "cell_type": "code",
      "source": [
        "shape.calculate_perimeter() # raises an error"
      ],
      "metadata": {
        "colab": {
          "base_uri": "https://localhost:8080/",
          "height": 228
        },
        "id": "9PP4r9LkLVRO",
        "outputId": "1777c3c9-0335-41b1-fee9-c9b4226ee1f2"
      },
      "execution_count": 12,
      "outputs": [
        {
          "output_type": "error",
          "ename": "NotImplementedError",
          "evalue": "Subclasses must implement calculate_perimeter.",
          "traceback": [
            "\u001b[0;31m---------------------------------------------------------------------------\u001b[0m",
            "\u001b[0;31mNotImplementedError\u001b[0m                       Traceback (most recent call last)",
            "\u001b[0;32m<ipython-input-12-dd3e2670557f>\u001b[0m in \u001b[0;36m<cell line: 0>\u001b[0;34m()\u001b[0m\n\u001b[0;32m----> 1\u001b[0;31m \u001b[0mshape\u001b[0m\u001b[0;34m.\u001b[0m\u001b[0mcalculate_perimeter\u001b[0m\u001b[0;34m(\u001b[0m\u001b[0;34m)\u001b[0m \u001b[0;31m# raises an error\u001b[0m\u001b[0;34m\u001b[0m\u001b[0;34m\u001b[0m\u001b[0m\n\u001b[0m",
            "\u001b[0;32m<ipython-input-7-95d02e756a3e>\u001b[0m in \u001b[0;36mcalculate_perimeter\u001b[0;34m(self)\u001b[0m\n\u001b[1;32m     31\u001b[0m \u001b[0;34m\u001b[0m\u001b[0m\n\u001b[1;32m     32\u001b[0m     \u001b[0;32mdef\u001b[0m \u001b[0mcalculate_perimeter\u001b[0m\u001b[0;34m(\u001b[0m\u001b[0mself\u001b[0m\u001b[0;34m)\u001b[0m \u001b[0;34m->\u001b[0m \u001b[0mfloat\u001b[0m\u001b[0;34m:\u001b[0m\u001b[0;34m\u001b[0m\u001b[0;34m\u001b[0m\u001b[0m\n\u001b[0;32m---> 33\u001b[0;31m         \u001b[0;32mraise\u001b[0m \u001b[0mNotImplementedError\u001b[0m\u001b[0;34m(\u001b[0m\u001b[0;34m\"Subclasses must implement calculate_perimeter.\"\u001b[0m\u001b[0;34m)\u001b[0m\u001b[0;34m\u001b[0m\u001b[0;34m\u001b[0m\u001b[0m\n\u001b[0m",
            "\u001b[0;31mNotImplementedError\u001b[0m: Subclasses must implement calculate_perimeter."
          ]
        }
      ]
    },
    {
      "cell_type": "code",
      "source": [
        "circle = Circle(\"black\", False, 3)\n",
        "print(circle) # Circle(color=\"black\", is_filled=False, radius=3)\n",
        "print(circle.calculate_area()) # 28.27\n",
        "print(circle.calculate_perimeter()) # 18.85"
      ],
      "metadata": {
        "colab": {
          "base_uri": "https://localhost:8080/"
        },
        "id": "8tw9dyaALGhT",
        "outputId": "b5f69402-d44d-456d-dd2e-23084f30f34d"
      },
      "execution_count": 13,
      "outputs": [
        {
          "output_type": "stream",
          "name": "stdout",
          "text": [
            "Circle(color=black, is_filled=False, radius=3)\n",
            "28.27\n",
            "18.85\n"
          ]
        }
      ]
    },
    {
      "cell_type": "code",
      "source": [
        "rectangle = Rectangle(\"green\", True, 3, 4)\n",
        "print(rectangle) # Rectangle(color=\"green\", is_filled=True, width=3, length=4)\n",
        "print(rectangle.calculate_area()) # 12\n",
        "print(rectangle.calculate_perimeter()) # 14"
      ],
      "metadata": {
        "colab": {
          "base_uri": "https://localhost:8080/"
        },
        "id": "cJlg0iMHLAmn",
        "outputId": "aa9f90de-9127-434b-eda4-d45bce86185e"
      },
      "execution_count": 14,
      "outputs": [
        {
          "output_type": "stream",
          "name": "stdout",
          "text": [
            "Rectangle(color=green, is_filled=True, width=3, length=4)\n",
            "12\n",
            "14\n"
          ]
        }
      ]
    },
    {
      "cell_type": "markdown",
      "source": [
        "### Problem 3"
      ],
      "metadata": {
        "id": "weM91ESr4D2h"
      }
    },
    {
      "cell_type": "markdown",
      "source": [
        "Write `Point` and `Triangle` classes in Python.\n",
        "\n",
        "- The `Point` class should consist of the following components:\n",
        "    - **Properties**\n",
        "        - `x`: The x-coordinate of a point.\n",
        "        - `y`: The y-coordinate of a point.\n",
        "\n",
        "        Getters and setters should be defined for the properties.\n",
        "\n",
        "    - **Methods**\n",
        "        - It should be possible to initialize an instance by providing `x` and `y` coordinates.\n",
        "        - Friendly string representation for a point should be implemented.\n",
        "        - `get_xy()`: It should return a tuple of `x` and `y` coordinates.\n",
        "        - `set_xy(x, y)`: It should change the `x` and `y` coordinates.\n",
        "        - `distance_from_coordinates(x, y)`: It should return the Euclidean distance between the current point and the point at `(x, y)`.\n",
        "        - `distance_from_point(another_point)`: It should return the Euclidean distance between the current point and the other point.\n",
        "        - `abs()`: Point's absolute value should return the Euclidean distance of the point from the origin.\n",
        "\n",
        "- The `Triangle` class should consist of the following components:\n",
        "    - **Properties**\n",
        "        - `vertex1`: The first vertex of a triangle modelled by `Point`.\n",
        "        - `vertex2`: The second vertex of a triangle modelled by `Point`.\n",
        "        - `vertex3`: The third vertex of a triangle modelled by `Point`.\n",
        "\n",
        "        Getters and setters are not needed for the properties.\n",
        "\n",
        "    - **Methods**\n",
        "        - It should be possible to initialize an instance by providing `x` and `y` coordinates for all three vertices. Optionally, a feature to initialize an instance by three `Point` objects can be added.\n",
        "        - Friendly string representation for a triangle should be implemented.\n",
        "        - `calculate_perimeter()`: It should return the perimeter of a triangle.\n",
        "        - `get_type()`: It should return the type of a triangle (equilateral, isosceles or scalene).\n",
        "\n",
        "<!-- $$\\pagebreak$$ -->\n"
      ],
      "metadata": {
        "id": "6Vc4S3zeL0_V"
      }
    },
    {
      "cell_type": "code",
      "source": [
        "class Point:\n",
        "    def __init__(self,\n",
        "                 x: float,\n",
        "                 y: float\n",
        "                 ) -> None:\n",
        "\n",
        "        self._x: float = x\n",
        "        self._y: float = y\n",
        "\n",
        "    @property\n",
        "    def x(self) -> float:\n",
        "        return self._x\n",
        "\n",
        "    @x.setter\n",
        "    def x(self, value: float) -> None:\n",
        "        self._x = value\n",
        "\n",
        "    @property\n",
        "    def y(self) -> float:\n",
        "        return self._y\n",
        "\n",
        "    @y.setter\n",
        "    def y(self, value: float) -> None:\n",
        "        self._y = value\n",
        "\n",
        "    def __str__(self) -> str:\n",
        "        return f\"Point(x={self.x}, y={self.y})\"\n",
        "\n",
        "    __repr__ = __str__\n",
        "\n",
        "    def get_xy(self) -> Tuple[float, float]:\n",
        "        return (self.x, self.y)\n",
        "\n",
        "    def set_xy(self, x: float, y: float) -> None:\n",
        "        self.x = x\n",
        "        self.y = y\n",
        "\n",
        "    def distance_from_coordinates(self, x: float, y: float) -> float:\n",
        "        return round(math.sqrt((self.x - x) ** 2 + (self.y - y) ** 2), 2)\n",
        "\n",
        "    def distance_from_point(self, another_point: \"Point\") -> float:\n",
        "        return self.distance_from_coordinates(another_point.x, another_point.y)\n",
        "\n",
        "    def __abs__(self) -> float:\n",
        "        return round(math.sqrt(self.x ** 2 + self.y ** 2), 2)"
      ],
      "metadata": {
        "id": "YpPv7XKlMHdW"
      },
      "execution_count": 15,
      "outputs": []
    },
    {
      "cell_type": "code",
      "source": [
        "class Triangle:\n",
        "    def __init__(self,\n",
        "                 *args: Union[float, Point]\n",
        "                ) -> None:\n",
        "\n",
        "        if len(args) == 6 and all(isinstance(arg, (int, float)) for arg in args):\n",
        "            self.vertex1 = Point(args[0], args[1])\n",
        "            self.vertex2 = Point(args[2], args[3])\n",
        "            self.vertex3 = Point(args[4], args[5])\n",
        "        elif len(args) == 3 and all(isinstance(arg, Point) for arg in args):\n",
        "            self.vertex1, self.vertex2, self.vertex3 = cast(Tuple[Point, Point, Point], args)\n",
        "        else:\n",
        "            raise ValueError(\"Provide either 6 numbers (for coordinates) or 3 Point objects.\")\n",
        "\n",
        "        if (self.vertex2.y - self.vertex1.y) * (self.vertex3.x - self.vertex1.x) == \\\n",
        "                   (self.vertex3.y - self.vertex1.y) * (self.vertex2.x - self.vertex1.x):\n",
        "            raise ValueError(\"No such triangle exists (points are collinear).\")\n",
        "\n",
        "    def __str__(self) -> str:\n",
        "        return (f\"Triangle(vertex1=Point({self.vertex1.x}, {self.vertex1.y}), \"\n",
        "                f\"vertex2=Point({self.vertex2.x}, {self.vertex2.y}), \"\n",
        "                f\"vertex3=Point({self.vertex3.x}, {self.vertex3.y}))\")\n",
        "\n",
        "    __repr__ = __str__\n",
        "\n",
        "    def _side_lengths(self) -> Tuple[float, float, float]:\n",
        "        side1 = self.vertex1.distance_from_point(self.vertex2)\n",
        "        side2 = self.vertex2.distance_from_point(self.vertex3)\n",
        "        side3 = self.vertex3.distance_from_point(self.vertex1)\n",
        "\n",
        "        return side1, side2, side3\n",
        "\n",
        "    def calculate_perimeter(self) -> float:\n",
        "        side1, side2, side3 = self._side_lengths()\n",
        "\n",
        "        return round(side1 + side2 + side3, 2)\n",
        "\n",
        "    def get_type(self) -> str:\n",
        "        side1, side2, side3 = self._side_lengths()\n",
        "\n",
        "        if math.isclose(side1, side2) and math.isclose(side2, side3):\n",
        "            return \"equilateral\"\n",
        "        elif (math.isclose(side1, side2) or\n",
        "              math.isclose(side2, side3) or\n",
        "              math.isclose(side1, side3)):\n",
        "            return \"isosceles\"\n",
        "        else:\n",
        "            return \"scalene\""
      ],
      "metadata": {
        "id": "sY6zwAYXMa9g"
      },
      "execution_count": 16,
      "outputs": []
    },
    {
      "cell_type": "code",
      "source": [
        "point1 = Point(1, 2)\n",
        "point2 = Point(1, 2)\n",
        "\n",
        "print(point2) # Point(x=1, y=2)\n",
        "print(point2.get_xy()) # (1, 2)"
      ],
      "metadata": {
        "colab": {
          "base_uri": "https://localhost:8080/"
        },
        "id": "AGGFFEx73YzQ",
        "outputId": "fe11c1ed-a12e-4d83-b440-2518231028e7"
      },
      "execution_count": 17,
      "outputs": [
        {
          "output_type": "stream",
          "name": "stdout",
          "text": [
            "Point(x=1, y=2)\n",
            "(1, 2)\n"
          ]
        }
      ]
    },
    {
      "cell_type": "code",
      "source": [
        "point2.set_xy(3, 4)\n",
        "print(point2) # Point(x=3, y=4)\n",
        "\n",
        "print(point1.distance_from_coordinates(3, 4)) # 2.83\n",
        "print(point1.distance_from_point(point2)) # 2.83\n",
        "\n",
        "print(abs(point1)) # 2.24\n",
        "print(abs(point2)) # 5"
      ],
      "metadata": {
        "colab": {
          "base_uri": "https://localhost:8080/"
        },
        "id": "bOL2Vccz3bk3",
        "outputId": "df08a147-7a61-4017-cd4e-313d7976b892"
      },
      "execution_count": 18,
      "outputs": [
        {
          "output_type": "stream",
          "name": "stdout",
          "text": [
            "Point(x=3, y=4)\n",
            "2.83\n",
            "2.83\n",
            "2.24\n",
            "5.0\n"
          ]
        }
      ]
    },
    {
      "cell_type": "code",
      "source": [
        "triangle = Triangle(0, 0, 1, 1, 2, 2) # raises an error (No such triangle exists)"
      ],
      "metadata": {
        "colab": {
          "base_uri": "https://localhost:8080/",
          "height": 263
        },
        "id": "5dx1JVCH34He",
        "outputId": "4ba59702-dcd4-4826-b984-1065dba5d89f"
      },
      "execution_count": 19,
      "outputs": [
        {
          "output_type": "error",
          "ename": "ValueError",
          "evalue": "No such triangle exists (points are collinear).",
          "traceback": [
            "\u001b[0;31m---------------------------------------------------------------------------\u001b[0m",
            "\u001b[0;31mValueError\u001b[0m                                Traceback (most recent call last)",
            "\u001b[0;32m<ipython-input-19-6f8b0aea8c4a>\u001b[0m in \u001b[0;36m<cell line: 0>\u001b[0;34m()\u001b[0m\n\u001b[0;32m----> 1\u001b[0;31m \u001b[0mtriangle\u001b[0m \u001b[0;34m=\u001b[0m \u001b[0mTriangle\u001b[0m\u001b[0;34m(\u001b[0m\u001b[0;36m0\u001b[0m\u001b[0;34m,\u001b[0m \u001b[0;36m0\u001b[0m\u001b[0;34m,\u001b[0m \u001b[0;36m1\u001b[0m\u001b[0;34m,\u001b[0m \u001b[0;36m1\u001b[0m\u001b[0;34m,\u001b[0m \u001b[0;36m2\u001b[0m\u001b[0;34m,\u001b[0m \u001b[0;36m2\u001b[0m\u001b[0;34m)\u001b[0m \u001b[0;31m# raises an error (No such triangle exists)\u001b[0m\u001b[0;34m\u001b[0m\u001b[0;34m\u001b[0m\u001b[0m\n\u001b[0m",
            "\u001b[0;32m<ipython-input-16-60c59784f70f>\u001b[0m in \u001b[0;36m__init__\u001b[0;34m(self, *args)\u001b[0m\n\u001b[1;32m     15\u001b[0m         \u001b[0;32mif\u001b[0m \u001b[0;34m(\u001b[0m\u001b[0mself\u001b[0m\u001b[0;34m.\u001b[0m\u001b[0mvertex2\u001b[0m\u001b[0;34m.\u001b[0m\u001b[0my\u001b[0m \u001b[0;34m-\u001b[0m \u001b[0mself\u001b[0m\u001b[0;34m.\u001b[0m\u001b[0mvertex1\u001b[0m\u001b[0;34m.\u001b[0m\u001b[0my\u001b[0m\u001b[0;34m)\u001b[0m \u001b[0;34m*\u001b[0m \u001b[0;34m(\u001b[0m\u001b[0mself\u001b[0m\u001b[0;34m.\u001b[0m\u001b[0mvertex3\u001b[0m\u001b[0;34m.\u001b[0m\u001b[0mx\u001b[0m \u001b[0;34m-\u001b[0m \u001b[0mself\u001b[0m\u001b[0;34m.\u001b[0m\u001b[0mvertex1\u001b[0m\u001b[0;34m.\u001b[0m\u001b[0mx\u001b[0m\u001b[0;34m)\u001b[0m \u001b[0;34m==\u001b[0m\u001b[0;31m \u001b[0m\u001b[0;31m\\\u001b[0m\u001b[0;34m\u001b[0m\u001b[0;34m\u001b[0m\u001b[0m\n\u001b[1;32m     16\u001b[0m                    \u001b[0;34m(\u001b[0m\u001b[0mself\u001b[0m\u001b[0;34m.\u001b[0m\u001b[0mvertex3\u001b[0m\u001b[0;34m.\u001b[0m\u001b[0my\u001b[0m \u001b[0;34m-\u001b[0m \u001b[0mself\u001b[0m\u001b[0;34m.\u001b[0m\u001b[0mvertex1\u001b[0m\u001b[0;34m.\u001b[0m\u001b[0my\u001b[0m\u001b[0;34m)\u001b[0m \u001b[0;34m*\u001b[0m \u001b[0;34m(\u001b[0m\u001b[0mself\u001b[0m\u001b[0;34m.\u001b[0m\u001b[0mvertex2\u001b[0m\u001b[0;34m.\u001b[0m\u001b[0mx\u001b[0m \u001b[0;34m-\u001b[0m \u001b[0mself\u001b[0m\u001b[0;34m.\u001b[0m\u001b[0mvertex1\u001b[0m\u001b[0;34m.\u001b[0m\u001b[0mx\u001b[0m\u001b[0;34m)\u001b[0m\u001b[0;34m:\u001b[0m\u001b[0;34m\u001b[0m\u001b[0;34m\u001b[0m\u001b[0m\n\u001b[0;32m---> 17\u001b[0;31m             \u001b[0;32mraise\u001b[0m \u001b[0mValueError\u001b[0m\u001b[0;34m(\u001b[0m\u001b[0;34m\"No such triangle exists (points are collinear).\"\u001b[0m\u001b[0;34m)\u001b[0m\u001b[0;34m\u001b[0m\u001b[0;34m\u001b[0m\u001b[0m\n\u001b[0m\u001b[1;32m     18\u001b[0m \u001b[0;34m\u001b[0m\u001b[0m\n\u001b[1;32m     19\u001b[0m     \u001b[0;32mdef\u001b[0m \u001b[0m__str__\u001b[0m\u001b[0;34m(\u001b[0m\u001b[0mself\u001b[0m\u001b[0;34m)\u001b[0m \u001b[0;34m->\u001b[0m \u001b[0mstr\u001b[0m\u001b[0;34m:\u001b[0m\u001b[0;34m\u001b[0m\u001b[0;34m\u001b[0m\u001b[0m\n",
            "\u001b[0;31mValueError\u001b[0m: No such triangle exists (points are collinear)."
          ]
        }
      ]
    },
    {
      "cell_type": "code",
      "source": [
        "triangle = Triangle(0, 0, 0, 4, 2, 0)\n",
        "print(triangle) # Triangle(vertex1=Point(0, 0), vertex2=Point(0, 4), vertex1=Point(2, 0))\n",
        "\n",
        "print(triangle.calculate_perimeter()) # 10.47\n",
        "print(triangle.get_type()) # scalene"
      ],
      "metadata": {
        "colab": {
          "base_uri": "https://localhost:8080/"
        },
        "id": "rl4Dg_Ol0ZYr",
        "outputId": "f86a22ab-ccf0-4281-ad45-64d039d0e30a"
      },
      "execution_count": 20,
      "outputs": [
        {
          "output_type": "stream",
          "name": "stdout",
          "text": [
            "Triangle(vertex1=Point(0, 0), vertex2=Point(0, 4), vertex3=Point(2, 0))\n",
            "10.47\n",
            "scalene\n"
          ]
        }
      ]
    },
    {
      "cell_type": "markdown",
      "source": [
        "### Problem 4"
      ],
      "metadata": {
        "id": "KJQZvXJ_4E7m"
      }
    },
    {
      "cell_type": "markdown",
      "source": [
        "Write a `Complex` class in Python. The class should consist of the following components:\n",
        "\n",
        "- **Properties**\n",
        "    - `real`: The real part of a complex number.\n",
        "    - `imaginary`: The imaginary part of a complex number.\n",
        "\n",
        "    Getters and setters are not required.\n",
        "\n",
        "- **Methods**\n",
        "    - It should be possible to initialize an instance by providing real and imaginary parts of a complex number.\n",
        "    - Friendly string representation for a complex number should be implemented.\n",
        "    - `+`: Addition of two complex numbers should be implemented. Also, it should be possible to add a scalar number to a complex number.\n",
        "    - `-`: Subtraction of two complex numbers should be implemented. Also, it should be possible to subtract a scalar number from a complex number.\n",
        "    - `*`: Multiplication two complex numbers should be implemented. Also, it should be possible to multiply a complex number by a scalar number.\n",
        "    - `**`: Exponentiation of a complex number to an integer power should be implemented.\n",
        "    - `/`: Division of two complex numbers should be implemented.\n",
        "    - `==`: Equality checks if two complex numbers are equal.\n",
        "    - `abs()`: Absolute value of a complex number should return the magnitude of a complex number."
      ],
      "metadata": {
        "id": "7ZpTV4Fklbt4"
      }
    },
    {
      "cell_type": "code",
      "source": [
        "class Complex:\n",
        "    def __init__(self,\n",
        "                 real: float,\n",
        "                 imaginary: float\n",
        "                 ) -> None:\n",
        "\n",
        "        self.real: float = real\n",
        "        self.imaginary: float = imaginary\n",
        "\n",
        "    def __repr__(self) -> str:\n",
        "        return f\"Complex(real={self.real}, imaginary={self.imaginary})\"\n",
        "\n",
        "    def __add__(self, other: Union[\"Complex\", int, float]) -> Union[\"Complex\", Any]:\n",
        "        if isinstance(other, Complex):\n",
        "            return Complex(self.real + other.real, self.imaginary + other.imaginary)\n",
        "        elif isinstance(other, (int, float)):\n",
        "            return Complex(self.real + other, self.imaginary)\n",
        "        return NotImplemented\n",
        "\n",
        "    def __radd__(self, other: Union[int, float]) -> Union[\"Complex\", Any]:\n",
        "        return self.__add__(other)\n",
        "\n",
        "    def __sub__(self, other: Union[\"Complex\", int, float]) -> Union[\"Complex\", Any]:\n",
        "        if isinstance(other, Complex):\n",
        "            return Complex(self.real - other.real, self.imaginary - other.imaginary)\n",
        "        elif isinstance(other, (int, float)):\n",
        "            return Complex(self.real - other, self.imaginary)\n",
        "        return NotImplemented\n",
        "\n",
        "    def __rsub__(self, other: Union[int, float]) -> Union[\"Complex\", Any]:\n",
        "        if isinstance(other, (int, float)):\n",
        "            return Complex(other - self.real, -self.imaginary)\n",
        "        return NotImplemented\n",
        "\n",
        "    def __mul__(self, other: Union[\"Complex\", int, float]) -> Union[\"Complex\", Any]:\n",
        "        if isinstance(other, Complex):\n",
        "            real_part: float = self.real * other.real - self.imaginary * other.imaginary\n",
        "            imaginary_part: float = self.real * other.imaginary + self.imaginary * other.real\n",
        "            return Complex(real_part, imaginary_part)\n",
        "        elif isinstance(other, (int, float)):\n",
        "            return Complex(self.real * other, self.imaginary * other)\n",
        "        return NotImplemented\n",
        "\n",
        "    def __rmul__(self, other: Union[int, float]) -> Union[\"Complex\", Any]:\n",
        "        return self.__mul__(other)\n",
        "\n",
        "    def __pow__(self, exponent: int) -> \"Complex\":\n",
        "        if not isinstance(exponent, int):\n",
        "            raise ValueError(\"Exponent must be an integer\")\n",
        "\n",
        "        if exponent == 0:\n",
        "            return Complex(1, 0)\n",
        "\n",
        "        if exponent < 0:\n",
        "            base: Complex = Complex(1, 0) / self\n",
        "            exponent = -exponent\n",
        "        else:\n",
        "            base = self\n",
        "\n",
        "        result: Complex = Complex(1, 0)\n",
        "        for _ in range(exponent):\n",
        "            result *= base\n",
        "        return result\n",
        "\n",
        "    def __truediv__(self, other: \"Complex\") -> Union[\"Complex\", Any]:\n",
        "        if isinstance(other, Complex):\n",
        "            denom: float = other.real**2 + other.imaginary**2\n",
        "            if denom == 0:\n",
        "                raise ZeroDivisionError(\"division by zero\")\n",
        "            real_part: float = (self.real * other.real + self.imaginary * other.imaginary) / denom\n",
        "            imaginary_part: float = (self.imaginary * other.real - self.real * other.imaginary) / denom\n",
        "            return Complex(round(real_part, 2), round(imaginary_part, 2))\n",
        "        return NotImplemented\n",
        "\n",
        "    def __eq__(self, other: Any) -> bool:\n",
        "        if isinstance(other, Complex):\n",
        "            return self.real == other.real and self.imaginary == other.imaginary\n",
        "        return False\n",
        "\n",
        "    def __abs__(self) -> float:\n",
        "        return round(math.sqrt(self.real**2 + self.imaginary**2), 4)"
      ],
      "metadata": {
        "id": "ehGYqSzA4Fka"
      },
      "execution_count": 21,
      "outputs": []
    },
    {
      "cell_type": "code",
      "source": [
        "c1 = Complex(1, 2)\n",
        "c2 = Complex(3, 4)\n",
        "c3 = Complex(1, 2)\n",
        "\n",
        "print(c1) # Complex(real=1, imaginary=2)\n",
        "print(c1 + c2) # Complex(real=4, imaginary=6)\n",
        "print(c1 + 5) # Complex(real=6, imaginary=2)\n",
        "print(5 + c1) # Complex(real=6, imaginary=2)\n",
        "print(c1 - c2) # Complex(real=-2, imaginary=-2)\n",
        "print(c1 - 5) # Complex(real=-4, imaginary=2)\n",
        "print(5 - c1) # Complex(real=4, imaginary=-2)\n",
        "print(c1 * c2) # Complex(real=-5, imaginary=10)\n",
        "print(c1 * 5) # Complex(real=5, imaginary=10)\n",
        "print(5 * c1) # Complex(real=5, imaginary=10)\n",
        "print(c1 / c2) # Complex(real=0.44, imaginary=0.08)\n",
        "print(c1 ** 2) # Complex(real=-3, imaginary=4)\n",
        "print(c1 == c2) # False\n",
        "print(c1 == c3) # True\n",
        "print(abs(c1)) # 2.2361"
      ],
      "metadata": {
        "colab": {
          "base_uri": "https://localhost:8080/"
        },
        "id": "1kvnWGcDv0o3",
        "outputId": "f9b8012a-14bd-469c-9b8e-125d6f7da26e"
      },
      "execution_count": 22,
      "outputs": [
        {
          "output_type": "stream",
          "name": "stdout",
          "text": [
            "Complex(real=1, imaginary=2)\n",
            "Complex(real=4, imaginary=6)\n",
            "Complex(real=6, imaginary=2)\n",
            "Complex(real=6, imaginary=2)\n",
            "Complex(real=-2, imaginary=-2)\n",
            "Complex(real=-4, imaginary=2)\n",
            "Complex(real=4, imaginary=-2)\n",
            "Complex(real=-5, imaginary=10)\n",
            "Complex(real=5, imaginary=10)\n",
            "Complex(real=5, imaginary=10)\n",
            "Complex(real=0.44, imaginary=0.08)\n",
            "Complex(real=-3, imaginary=4)\n",
            "False\n",
            "True\n",
            "2.2361\n"
          ]
        }
      ]
    },
    {
      "cell_type": "markdown",
      "source": [
        "### Problem 5"
      ],
      "metadata": {
        "id": "5NFnN_kE4GL1"
      }
    },
    {
      "cell_type": "markdown",
      "source": [
        "Write a `WordList` class in Python, which stores a list of words. The class should consist of the following components:\n",
        "\n",
        "- **Properties**\n",
        "    - `words`: A list containing words as strings.\n",
        "\n",
        "    Getters and setters are not required.\n",
        "\n",
        "- **Methods**\n",
        "  - The class should allow initialization by providing a list of words.\n",
        "  - A friendly string representation should be implemented that displays the words in a readable format.\n",
        "  - `+`: Concatenation of two `WordList` objects should be implemented.\n",
        "  - `+=`: In-place concatenation should be supported, where words from another `WordList` are appended to the current instance.\n",
        "  - `*`: Overload the `*` operator for repetition.\n",
        "  - `len()`: Overload `len()` to return the number of words in the `WordList`.\n",
        "  - `in`: Overload the `in` operator to check if a word is present in the `WordList`.\n",
        "  - `[]`: Overload indexing (`[]`) to access words by their index (0-based) and slicing.\n",
        "    - Implement both getting and setting of words for indexing.\n",
        "    - Return a new `WordList` object containing the sliced words for slicing.\n",
        "  - `del`: Overload `del` to allow deletion of a word at a specific index.\n",
        "  - `reversed()`: Overload the `reversed()` built-in function that yields words in the reverse order.\n",
        "  - `sorted()`: Overload the necessary method to allow sorting of `WordList` objects lexicographically.\n",
        "  - `iter()`: Make `WordList` iterable. It should be possible to iterate over the words of the list."
      ],
      "metadata": {
        "id": "3JAbQgHB6CVn"
      }
    },
    {
      "cell_type": "code",
      "source": [
        "class WordList:\n",
        "    def __init__(self,\n",
        "                 words: List[str]\n",
        "                 ) -> None:\n",
        "\n",
        "        self.words: List[str] = words\n",
        "\n",
        "    def __str__(self) -> str:\n",
        "        return f'WordList({self.words})'\n",
        "\n",
        "    __repr__ = __str__\n",
        "\n",
        "    def __add__(self, other: \"WordList\") -> \"WordList\":\n",
        "        if not isinstance(other, WordList):\n",
        "            return NotImplemented\n",
        "        return WordList(self.words + other.words)\n",
        "\n",
        "    def __iadd__(self, other: \"WordList\") -> \"WordList\":\n",
        "        if not isinstance(other, WordList):\n",
        "            return NotImplemented\n",
        "        self.words += other.words\n",
        "        return self\n",
        "\n",
        "    def __mul__(self, times: int) -> \"WordList\":\n",
        "        if not isinstance(times, int):\n",
        "            return NotImplemented\n",
        "        return WordList(self.words * times)\n",
        "\n",
        "    def __rmul__(self, times: int) -> \"WordList\":\n",
        "        return self.__mul__(times)\n",
        "\n",
        "    def __len__(self) -> int:\n",
        "        return len(self.words)\n",
        "\n",
        "    def __contains__(self, word: object) -> bool:\n",
        "        return word in self.words\n",
        "\n",
        "    def __getitem__(self, index: Union[int, slice]) -> Union[str, \"WordList\"]:\n",
        "        result = self.words[index]\n",
        "        if isinstance(index, slice):\n",
        "            return WordList(result)\n",
        "        return result\n",
        "\n",
        "    def __setitem__(self, index: Union[int, slice], value: Union[str, List[str], \"WordList\"]) -> None:\n",
        "        if isinstance(index, int):\n",
        "            if not isinstance(value, str):\n",
        "                raise ValueError(\"Expected a string for assignment to a single index.\")\n",
        "            self.words[index] = value\n",
        "        elif isinstance(index, slice):\n",
        "            if isinstance(value, WordList):\n",
        "                self.words[index] = value.words\n",
        "            elif isinstance(value, list) and all(isinstance(item, str) for item in value):\n",
        "                self.words[index] = value\n",
        "            else:\n",
        "                raise ValueError(\"Expected a list of strings or a WordList for slice assignment.\")\n",
        "        else:\n",
        "            raise TypeError(\"Index must be an integer or slice.\")\n",
        "\n",
        "    def __delitem__(self, index: Union[int, slice]) -> None:\n",
        "        del self.words[index]\n",
        "\n",
        "    def __reversed__(self) -> Iterator[str]:\n",
        "        return iter(self.words[::-1])\n",
        "\n",
        "    def __lt__(self, other: \"WordList\") -> bool:\n",
        "        if not isinstance(other, WordList):\n",
        "            return NotImplemented\n",
        "        return self.words < other.words\n",
        "\n",
        "    def __iter__(self) -> Iterator[str]:\n",
        "        return iter(self.words)"
      ],
      "metadata": {
        "id": "O8Ok2lCp6BYS"
      },
      "execution_count": 23,
      "outputs": []
    },
    {
      "cell_type": "code",
      "source": [
        "list1 = WordList([\"hello\", \"world\"])\n",
        "list2 = WordList([\"python\", \"programming\"])\n",
        "\n",
        "print(list1) # WordList([\"hello\", \"world\"])\n",
        "print(list1 + list2) # WordList([\"hello\", \"world\", \"python\", \"programming\"])\n",
        "\n",
        "list1 += list2\n",
        "\n",
        "print(list1) # WordList([\"hello\", \"world\", \"python\", \"programming\"])"
      ],
      "metadata": {
        "colab": {
          "base_uri": "https://localhost:8080/"
        },
        "id": "lCgJq6BoCuRI",
        "outputId": "2c65a76a-4d96-4489-a4e2-e185aa606428"
      },
      "execution_count": 24,
      "outputs": [
        {
          "output_type": "stream",
          "name": "stdout",
          "text": [
            "WordList(['hello', 'world'])\n",
            "WordList(['hello', 'world', 'python', 'programming'])\n",
            "WordList(['hello', 'world', 'python', 'programming'])\n"
          ]
        }
      ]
    },
    {
      "cell_type": "code",
      "source": [
        "print(len(list1)) # 4\n",
        "print(\"hello\" in list1) # True\n",
        "print(list1[1]) # \"world\"\n",
        "print(list1[1:3]) # WordList([\"world\", \"python\"])"
      ],
      "metadata": {
        "colab": {
          "base_uri": "https://localhost:8080/"
        },
        "id": "P6luhAaLCyna",
        "outputId": "3b884e4b-04c2-4d62-cc5b-4142be34c972"
      },
      "execution_count": 25,
      "outputs": [
        {
          "output_type": "stream",
          "name": "stdout",
          "text": [
            "4\n",
            "True\n",
            "world\n",
            "WordList(['world', 'python'])\n"
          ]
        }
      ]
    },
    {
      "cell_type": "code",
      "source": [
        "list1[0] = \"hi\"\n",
        "del list1[1]\n",
        "\n",
        "print(list1) # WordList([\"hi\", \"python\", \"programming\"])"
      ],
      "metadata": {
        "colab": {
          "base_uri": "https://localhost:8080/"
        },
        "id": "o73C3y26C1p3",
        "outputId": "25e86d20-a4fc-412f-9b44-abb6a015b5b6"
      },
      "execution_count": 26,
      "outputs": [
        {
          "output_type": "stream",
          "name": "stdout",
          "text": [
            "WordList(['hi', 'python', 'programming'])\n"
          ]
        }
      ]
    },
    {
      "cell_type": "code",
      "source": [
        "for word in list1:\n",
        "    print(word, end=\" \") # hi python programming"
      ],
      "metadata": {
        "colab": {
          "base_uri": "https://localhost:8080/"
        },
        "id": "LLMka8-MC4-r",
        "outputId": "4b3b3fde-e973-4df2-cb26-6cff27a81e4b"
      },
      "execution_count": 27,
      "outputs": [
        {
          "output_type": "stream",
          "name": "stdout",
          "text": [
            "hi python programming "
          ]
        }
      ]
    },
    {
      "cell_type": "code",
      "source": [
        "for word in reversed(list1):\n",
        "    print(word, end=\" \") # programming python hi"
      ],
      "metadata": {
        "colab": {
          "base_uri": "https://localhost:8080/"
        },
        "id": "tkC2LHR5C6WZ",
        "outputId": "cd7c6d7f-95fa-44ea-9cc1-f31f8e292ee4"
      },
      "execution_count": 28,
      "outputs": [
        {
          "output_type": "stream",
          "name": "stdout",
          "text": [
            "programming python hi "
          ]
        }
      ]
    },
    {
      "cell_type": "code",
      "source": [
        "for word_list in sorted([\n",
        "    WordList([\"def\", \"ghi\"]),\n",
        "    WordList([\"abc\", \"123\"])\n",
        "]):\n",
        "    print(word_list, end=\" \") # WordList([\"abc\", \"123\"]) WordList([\"def\", \"ghi\"])"
      ],
      "metadata": {
        "id": "awAmgr3w4GrF",
        "colab": {
          "base_uri": "https://localhost:8080/"
        },
        "outputId": "c91b6f4a-fd6b-49cc-d47f-422834e2529a"
      },
      "execution_count": 29,
      "outputs": [
        {
          "output_type": "stream",
          "name": "stdout",
          "text": [
            "WordList(['abc', '123']) WordList(['def', 'ghi']) "
          ]
        }
      ]
    },
    {
      "cell_type": "markdown",
      "source": [
        "### Problem 6"
      ],
      "metadata": {
        "id": "8tr7PDJ84HLS"
      }
    },
    {
      "cell_type": "markdown",
      "source": [
        "You want to automatically retry a block of code a certain number of times if it raises a specific exception (or any exception), with a delay between retries.  \n",
        "\n",
        "Create a context manager `Retry(max_retries=3, delay=1, exceptions=(Exception,))` that:  \n",
        "\n",
        "- Takes parameters for maximum retry attempts, delay in seconds between retries, and a tuple of exception types to catch and retry on (default to `Exception` for any exception).  \n",
        "- Enters a `with` block and executes the code inside.  \n",
        "- If an exception of a type in `exceptions` is raised within the block:  \n",
        "  - Catches the exception.  \n",
        "  - If the retry count is not exhausted, waits for `delay` seconds, increments the retry count, and re-executes the code block from the beginning of the `with` block.  \n",
        "  - If retries are exhausted, re-raises the last caught exception.  \n",
        "- If the code block completes successfully without exceptions, the context manager exits normally.  "
      ],
      "metadata": {
        "id": "LebdgSFcp0KR"
      }
    },
    {
      "cell_type": "code",
      "source": [
        "class Retry:\n",
        "    def __init__(self, max_retries=3, delay=1, exceptions=(Exception,)):\n",
        "        self.max_retries = max_retries\n",
        "        self.delay = delay\n",
        "        self.exceptions = exceptions\n",
        "\n",
        "    def __enter__(self):\n",
        "        # Return a callable helper method that will run the target function with retry logic.\n",
        "        return self.run\n",
        "\n",
        "    def __exit__(self, exc_type, exc_value, traceback):\n",
        "        # We don't need special cleanup; returning False lets any unhandled exceptions propagate.\n",
        "        return False\n",
        "\n",
        "    def run(self, func, *args, **kwargs):\n",
        "        attempts = 0\n",
        "        while True:\n",
        "            try:\n",
        "                return func(*args, **kwargs)\n",
        "            except self.exceptions as e:\n",
        "                attempts += 1\n",
        "                if attempts > self.max_retries:\n",
        "                    # Exceeded max retries: re-raise the exception.\n",
        "                    raise\n",
        "                print(f\"Retry {attempts}/{self.max_retries} after exception: {e}\")\n",
        "                time.sleep(self.delay)\n",
        "\n",
        "# Example usage:\n",
        "def flaky_operation():\n",
        "    if random.random() < 0.8:  # Simulate an 80% chance of failure\n",
        "        raise ValueError(\"Operation failed!\")\n",
        "    print(\"Operation successful.\")\n",
        "\n",
        "if __name__ == '__main__':\n",
        "    with Retry(max_retries=3, delay=2, exceptions=(ValueError,)) as retry:\n",
        "        retry(flaky_operation)\n",
        "    print(\"After Retry block.\")\n"
      ],
      "metadata": {
        "colab": {
          "base_uri": "https://localhost:8080/",
          "height": 391
        },
        "id": "c86ANCKf1_za",
        "outputId": "7fea5cbf-7dfb-4933-d8a4-9badec445b08"
      },
      "execution_count": 30,
      "outputs": [
        {
          "output_type": "stream",
          "name": "stdout",
          "text": [
            "Retry 1/3 after exception: Operation failed!\n",
            "Retry 2/3 after exception: Operation failed!\n",
            "Retry 3/3 after exception: Operation failed!\n"
          ]
        },
        {
          "output_type": "error",
          "ename": "ValueError",
          "evalue": "Operation failed!",
          "traceback": [
            "\u001b[0;31m---------------------------------------------------------------------------\u001b[0m",
            "\u001b[0;31mValueError\u001b[0m                                Traceback (most recent call last)",
            "\u001b[0;32m<ipython-input-30-673bd828ec13>\u001b[0m in \u001b[0;36m<cell line: 0>\u001b[0;34m()\u001b[0m\n\u001b[1;32m     34\u001b[0m \u001b[0;32mif\u001b[0m \u001b[0m__name__\u001b[0m \u001b[0;34m==\u001b[0m \u001b[0;34m'__main__'\u001b[0m\u001b[0;34m:\u001b[0m\u001b[0;34m\u001b[0m\u001b[0;34m\u001b[0m\u001b[0m\n\u001b[1;32m     35\u001b[0m     \u001b[0;32mwith\u001b[0m \u001b[0mRetry\u001b[0m\u001b[0;34m(\u001b[0m\u001b[0mmax_retries\u001b[0m\u001b[0;34m=\u001b[0m\u001b[0;36m3\u001b[0m\u001b[0;34m,\u001b[0m \u001b[0mdelay\u001b[0m\u001b[0;34m=\u001b[0m\u001b[0;36m2\u001b[0m\u001b[0;34m,\u001b[0m \u001b[0mexceptions\u001b[0m\u001b[0;34m=\u001b[0m\u001b[0;34m(\u001b[0m\u001b[0mValueError\u001b[0m\u001b[0;34m,\u001b[0m\u001b[0;34m)\u001b[0m\u001b[0;34m)\u001b[0m \u001b[0;32mas\u001b[0m \u001b[0mretry\u001b[0m\u001b[0;34m:\u001b[0m\u001b[0;34m\u001b[0m\u001b[0;34m\u001b[0m\u001b[0m\n\u001b[0;32m---> 36\u001b[0;31m         \u001b[0mretry\u001b[0m\u001b[0;34m(\u001b[0m\u001b[0mflaky_operation\u001b[0m\u001b[0;34m)\u001b[0m\u001b[0;34m\u001b[0m\u001b[0;34m\u001b[0m\u001b[0m\n\u001b[0m\u001b[1;32m     37\u001b[0m     \u001b[0mprint\u001b[0m\u001b[0;34m(\u001b[0m\u001b[0;34m\"After Retry block.\"\u001b[0m\u001b[0;34m)\u001b[0m\u001b[0;34m\u001b[0m\u001b[0;34m\u001b[0m\u001b[0m\n",
            "\u001b[0;32m<ipython-input-30-673bd828ec13>\u001b[0m in \u001b[0;36mrun\u001b[0;34m(self, func, *args, **kwargs)\u001b[0m\n\u001b[1;32m     17\u001b[0m         \u001b[0;32mwhile\u001b[0m \u001b[0;32mTrue\u001b[0m\u001b[0;34m:\u001b[0m\u001b[0;34m\u001b[0m\u001b[0;34m\u001b[0m\u001b[0m\n\u001b[1;32m     18\u001b[0m             \u001b[0;32mtry\u001b[0m\u001b[0;34m:\u001b[0m\u001b[0;34m\u001b[0m\u001b[0;34m\u001b[0m\u001b[0m\n\u001b[0;32m---> 19\u001b[0;31m                 \u001b[0;32mreturn\u001b[0m \u001b[0mfunc\u001b[0m\u001b[0;34m(\u001b[0m\u001b[0;34m*\u001b[0m\u001b[0margs\u001b[0m\u001b[0;34m,\u001b[0m \u001b[0;34m**\u001b[0m\u001b[0mkwargs\u001b[0m\u001b[0;34m)\u001b[0m\u001b[0;34m\u001b[0m\u001b[0;34m\u001b[0m\u001b[0m\n\u001b[0m\u001b[1;32m     20\u001b[0m             \u001b[0;32mexcept\u001b[0m \u001b[0mself\u001b[0m\u001b[0;34m.\u001b[0m\u001b[0mexceptions\u001b[0m \u001b[0;32mas\u001b[0m \u001b[0me\u001b[0m\u001b[0;34m:\u001b[0m\u001b[0;34m\u001b[0m\u001b[0;34m\u001b[0m\u001b[0m\n\u001b[1;32m     21\u001b[0m                 \u001b[0mattempts\u001b[0m \u001b[0;34m+=\u001b[0m \u001b[0;36m1\u001b[0m\u001b[0;34m\u001b[0m\u001b[0;34m\u001b[0m\u001b[0m\n",
            "\u001b[0;32m<ipython-input-30-673bd828ec13>\u001b[0m in \u001b[0;36mflaky_operation\u001b[0;34m()\u001b[0m\n\u001b[1;32m     29\u001b[0m \u001b[0;32mdef\u001b[0m \u001b[0mflaky_operation\u001b[0m\u001b[0;34m(\u001b[0m\u001b[0;34m)\u001b[0m\u001b[0;34m:\u001b[0m\u001b[0;34m\u001b[0m\u001b[0;34m\u001b[0m\u001b[0m\n\u001b[1;32m     30\u001b[0m     \u001b[0;32mif\u001b[0m \u001b[0mrandom\u001b[0m\u001b[0;34m.\u001b[0m\u001b[0mrandom\u001b[0m\u001b[0;34m(\u001b[0m\u001b[0;34m)\u001b[0m \u001b[0;34m<\u001b[0m \u001b[0;36m0.8\u001b[0m\u001b[0;34m:\u001b[0m  \u001b[0;31m# Simulate an 80% chance of failure\u001b[0m\u001b[0;34m\u001b[0m\u001b[0;34m\u001b[0m\u001b[0m\n\u001b[0;32m---> 31\u001b[0;31m         \u001b[0;32mraise\u001b[0m \u001b[0mValueError\u001b[0m\u001b[0;34m(\u001b[0m\u001b[0;34m\"Operation failed!\"\u001b[0m\u001b[0;34m)\u001b[0m\u001b[0;34m\u001b[0m\u001b[0;34m\u001b[0m\u001b[0m\n\u001b[0m\u001b[1;32m     32\u001b[0m     \u001b[0mprint\u001b[0m\u001b[0;34m(\u001b[0m\u001b[0;34m\"Operation successful.\"\u001b[0m\u001b[0;34m)\u001b[0m\u001b[0;34m\u001b[0m\u001b[0;34m\u001b[0m\u001b[0m\n\u001b[1;32m     33\u001b[0m \u001b[0;34m\u001b[0m\u001b[0m\n",
            "\u001b[0;31mValueError\u001b[0m: Operation failed!"
          ]
        }
      ]
    },
    {
      "cell_type": "markdown",
      "source": [
        "### Problem 7"
      ],
      "metadata": {
        "id": "IOqSopD-4Ily"
      }
    },
    {
      "cell_type": "markdown",
      "source": [
        "Given a recursive data structure representing a file system where directories contain files or subdirectories. Using structural pattern matching implement a function that lists all the file names at any depth in the directory tree.\n",
        "\n",
        "```python\n",
        "class File:\n",
        "    pass\n",
        "\n",
        "class Directory:\n",
        "    pass\n",
        "```\n",
        "\n",
        "- A `File` has a `name` attribute, representing the file's name.  \n",
        "- A `Directory` has a `name` and `contents`, which can be a mix of `File` objects and other `Directory` objects.  \n"
      ],
      "metadata": {
        "id": "IPk2TvIbDpWP"
      }
    },
    {
      "cell_type": "code",
      "source": [
        "class File:\n",
        "    __match_args__ = (\"name\",)\n",
        "\n",
        "    def __init__(self,\n",
        "                 name: str\n",
        "                 ) -> None:\n",
        "\n",
        "        self.name = name\n",
        "\n",
        "    def __repr__(self) -> str:\n",
        "        return f'File(\"{self.name}\")'"
      ],
      "metadata": {
        "id": "J7Bm2jO14JKy"
      },
      "execution_count": 32,
      "outputs": []
    },
    {
      "cell_type": "code",
      "source": [
        "class Directory:\n",
        "    __match_args__ = (\"name\", \"contents\")\n",
        "\n",
        "    def __init__(self,\n",
        "                 name: str,\n",
        "                 contents: List[Union[\"File\", \"Directory\"]]\n",
        "                 ) -> None:\n",
        "\n",
        "        self.name = name\n",
        "        self.contents = contents\n",
        "\n",
        "    def __repr__(self) -> str:\n",
        "        return f'Directory(\"{self.name}\", {self.contents})'"
      ],
      "metadata": {
        "id": "RJV0ATJpD44V"
      },
      "execution_count": 33,
      "outputs": []
    },
    {
      "cell_type": "code",
      "source": [
        "def get_file_names(directory: Directory) -> List[str]:\n",
        "    file_names: List[str] = []\n",
        "    for item in directory.contents:\n",
        "        match item:\n",
        "            case File(name=name):\n",
        "                file_names.append(name)\n",
        "            case Directory(name=_, contents=_):\n",
        "                file_names.extend(get_file_names(item))\n",
        "    return file_names"
      ],
      "metadata": {
        "id": "GgHoTjLLD62d"
      },
      "execution_count": 34,
      "outputs": []
    },
    {
      "cell_type": "code",
      "source": [
        "root = Directory(\"root\", [\n",
        "    File(\"file1.txt\"),\n",
        "    Directory(\"subdir1\", [\n",
        "        File(\"file2.txt\"),\n",
        "        Directory(\"subdir2\", [\n",
        "            File(\"file3.txt\")\n",
        "        ])\n",
        "    ]),\n",
        "    File(\"file4.txt\")\n",
        "])\n",
        "\n",
        "print(get_file_names(root)) # ['file1.txt', 'file2.txt', 'file3.txt', 'file4.txt']"
      ],
      "metadata": {
        "colab": {
          "base_uri": "https://localhost:8080/"
        },
        "id": "Shdo6EHlD7an",
        "outputId": "ee7b1b43-29b2-4750-86c0-aa37c6bc6aa0"
      },
      "execution_count": 35,
      "outputs": [
        {
          "output_type": "stream",
          "name": "stdout",
          "text": [
            "['file1.txt', 'file2.txt', 'file3.txt', 'file4.txt']\n"
          ]
        }
      ]
    }
  ]
}
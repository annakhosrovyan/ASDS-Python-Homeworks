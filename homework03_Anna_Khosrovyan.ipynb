{
  "nbformat": 4,
  "nbformat_minor": 0,
  "metadata": {
    "colab": {
      "provenance": []
    },
    "kernelspec": {
      "name": "python3",
      "display_name": "Python 3"
    },
    "language_info": {
      "name": "python"
    }
  },
  "cells": [
    {
      "cell_type": "markdown",
      "source": [
        "## Problem 1 [25 points]\n",
        "\n",
        "Create an abstract base class `Expression` that represents a mathematical expression. This class should require methods for evaluating the expression (given a dictionary of variable values), for computing its symbolic derivative with respect to a variable. Also, it should require pretty printing and formatting for expressions. Then, implement concrete classes for constants, variables and binary operations (addition, subtraction, multiplication and division).\n",
        "\n"
      ],
      "metadata": {
        "id": "ybvYSgyhtXBw"
      }
    },
    {
      "cell_type": "code",
      "execution_count": 1,
      "metadata": {
        "id": "BXtxug-0jh25"
      },
      "outputs": [],
      "source": [
        "from abc import ABC, abstractmethod\n",
        "\n",
        "class Expression(ABC):\n",
        "    @abstractmethod\n",
        "    def evaluate(self, variables: dict):\n",
        "        pass\n",
        "\n",
        "    @abstractmethod\n",
        "    def derivative(self, x):\n",
        "        pass\n",
        "\n",
        "    @abstractmethod\n",
        "    def __repr__(self):\n",
        "        pass\n",
        "\n",
        "class Constant(Expression):\n",
        "    def __init__(self, value):\n",
        "        self._value = value\n",
        "\n",
        "    def evaluate(self, variables):\n",
        "        return self._value\n",
        "\n",
        "    def derivative(self, x):\n",
        "        return Constant(0)\n",
        "\n",
        "    def __repr__(self):\n",
        "        return str(self._value)\n",
        "\n",
        "class Variable(Expression):\n",
        "    def __init__(self, name):\n",
        "        self._name = name\n",
        "\n",
        "    def evaluate(self, variables):\n",
        "        return variables[self._name]\n",
        "\n",
        "    def derivative(self, x):\n",
        "      if self._name == x:\n",
        "          return Constant(1)\n",
        "      return Constant(0)\n",
        "\n",
        "    def __repr__(self):\n",
        "        return self._name\n",
        "\n",
        "class Add(Expression):\n",
        "  def __init__(self, l, r):\n",
        "    self._l = l\n",
        "    self._r = r\n",
        "\n",
        "  def evaluate(self, variables):\n",
        "    return self._l.evaluate(variables) + self._r.evaluate(variables)\n",
        "\n",
        "  def derivative(self, x):\n",
        "    return Add(self._l.derivative(x), self._r.derivative(x))\n",
        "\n",
        "  def __repr__(self):\n",
        "    return f\"({str(self._l)} + {str(self._r)})\"\n",
        "\n",
        "class Subtract(Expression):\n",
        "  def __init__(self, l, r):\n",
        "    self._l = l\n",
        "    self._r = r\n",
        "\n",
        "  def evaluate(self, variables):\n",
        "    return self._l.evaluate(variables) - self._r.evaluate(variables)\n",
        "\n",
        "  def derivative(self, x):\n",
        "    return Subtract(self._l.derivative(x), self._r.derivative(x))\n",
        "\n",
        "  def __repr__(self):\n",
        "    return f\"({str(self._l)} - {str(self._r)})\"\n",
        "\n",
        "\n",
        "class Multiply(Expression):\n",
        "  def __init__(self, l, r):\n",
        "    self._l = l\n",
        "    self._r = r\n",
        "\n",
        "  def evaluate(self, variables):\n",
        "    return self._l.evaluate(variables) * self._r.evaluate(variables)\n",
        "\n",
        "  def derivative(self, x):\n",
        "    return Add(Multiply(self._l.derivative(x), self._r), Multiply(self._l, self._r.derivative(x)))\n",
        "\n",
        "  def __repr__(self):\n",
        "    return f\"{str(self._l)} * {str(self._r)}\"\n",
        "\n",
        "\n",
        "class Divide(Expression):\n",
        "  def __init__(self, l, r):\n",
        "    self._l = l\n",
        "    self._r = r\n",
        "\n",
        "  def evaluate(self, variables):\n",
        "    return self._l.evaluate(variables) / self._r.evaluate(variables)\n",
        "\n",
        "  def derivative(self, x):\n",
        "    return Divide(Subtract(Multiply(self._l.derivative(x), self._r),\n",
        "                  Multiply(self._l, self._r.derivative(x))), Multiply(self._r, self._r))\n",
        "\n",
        "  def __repr__(self):\n",
        "    return f\"{str(self._l)} / {str(self._r)}\""
      ]
    },
    {
      "cell_type": "code",
      "source": [
        "expr = Divide(\n",
        "    Multiply(\n",
        "        Add(Multiply(Constant(2), Variable(\"x\")), Constant(3)),\n",
        "        Subtract(Variable(\"x\"), Constant(5))\n",
        "    ),\n",
        "    Subtract(Constant(1), Variable(\"x\"))\n",
        ")\n",
        "\n",
        "print(expr) # (2 * x + 3) * (x - 5) / (1 - x)\n",
        "\n",
        "assert expr.evaluate({\"x\": 3}) == 9.0\n",
        "\n",
        "derivative_expr = expr.derivative(\"x\")\n",
        "\n",
        "assert derivative_expr.evaluate({\"x\": 3}) == -7.0"
      ],
      "metadata": {
        "colab": {
          "base_uri": "https://localhost:8080/"
        },
        "id": "GVmPzb2KfngX",
        "outputId": "0546027e-e898-4af1-c62a-c3fef9602f16"
      },
      "execution_count": 2,
      "outputs": [
        {
          "output_type": "stream",
          "name": "stdout",
          "text": [
            "(2 * x + 3) * (x - 5) / (1 - x)\n"
          ]
        }
      ]
    },
    {
      "cell_type": "markdown",
      "source": [
        "## Problem 2 [25 points]\n",
        "\n",
        "A Binary Search Tree (BST) is a data structure that consists of nodes, where each node contains a value and references to two child nodes: left and right. The key property of a BST is that for every node:\n",
        "\n",
        "- The value of the left child node is less than the value of the parent node.\n",
        "- The value of the right child node is greater than the value of the parent node.\n",
        "\n",
        "Implement a generic BST that supports any comparable type (integers, floats, strings, custom objects). It should provide standard `insert` and `search` operations as defined below:\n",
        "\n",
        "- **Insertion:** Insert a new node while maintaining the BST property.\n",
        "- **Search:** Find a node in the tree based on its value."
      ],
      "metadata": {
        "id": "j-gSECp2pZzr"
      }
    },
    {
      "cell_type": "code",
      "source": [
        "from typing import TypeVar, Optional, Generic\n",
        "\n",
        "T = TypeVar('T')\n",
        "\n",
        "class BSTNode(Generic[T]):\n",
        "    def __init__(self, x: T):\n",
        "        self._x: T = x\n",
        "        self._left: Optional[BSTNode[T]] = None\n",
        "        self._right: Optional[BSTNode[T]] = None\n",
        "\n",
        "class BST(Generic[T]):\n",
        "    def __init__(self):\n",
        "        self._start: Optional[BSTNode[T]] = None\n",
        "\n",
        "    def insert(self, item: T) -> None:\n",
        "        node = self._start\n",
        "        if node is None:\n",
        "            self._start = BSTNode(item)\n",
        "            return\n",
        "\n",
        "        while True:\n",
        "            if item < node._x:\n",
        "                if node._left is None:\n",
        "                    node._left = BSTNode(item)\n",
        "                    return\n",
        "                node = node._left\n",
        "            elif item > node._x:\n",
        "                if node._right is None:\n",
        "                    node._right = BSTNode(item)\n",
        "                    return\n",
        "                node = node._right\n",
        "            else:\n",
        "                return\n",
        "\n",
        "    def search(self, target: T) -> bool:\n",
        "        node = self._start\n",
        "        while node is not None:\n",
        "            if target == node._x:\n",
        "                return True\n",
        "            elif target < node._x:\n",
        "                node = node._left\n",
        "            else:\n",
        "                node = node._right\n",
        "        return False"
      ],
      "metadata": {
        "id": "OFadwFzstSCg"
      },
      "execution_count": 3,
      "outputs": []
    },
    {
      "cell_type": "code",
      "source": [
        "\"\"\"\n",
        "        10\n",
        "       /  \\\n",
        "     5     15\n",
        "    / \\    /  \\\n",
        "   3   7  12   20\n",
        "\"\"\"\n",
        "tree = BST[int]()\n",
        "tree.insert(10)\n",
        "tree.insert(5)\n",
        "tree.insert(15)\n",
        "tree.insert(3)\n",
        "tree.insert(7)\n",
        "tree.insert(12)\n",
        "tree.insert(20)\n",
        "\n",
        "assert tree.search(7) == True\n",
        "assert tree.search(15) == True\n",
        "assert tree.search(42) == False"
      ],
      "metadata": {
        "id": "PaVUrp1hpdJm"
      },
      "execution_count": 4,
      "outputs": []
    },
    {
      "cell_type": "markdown",
      "source": [
        "## Problem 3 [25 points]\n",
        "\n",
        "a. Implement a descriptor that tracks the history of all values assigned to an attribute."
      ],
      "metadata": {
        "id": "AHauXplCvkKn"
      }
    },
    {
      "cell_type": "code",
      "source": [
        "class HistoryTracking:\n",
        "    def __set_name__(self, owner, name):\n",
        "        print(f\"__set_name__ called: owner={owner}, name={name}\")\n",
        "        self._name = name\n",
        "        self._history_name = f\"_{name}_history\"\n",
        "\n",
        "    def __get__(self, instance, owner):\n",
        "        return instance.__dict__.get(self._name, None)\n",
        "\n",
        "    def __set__(self, instance, value):\n",
        "        if self._name in instance.__dict__:\n",
        "            history = instance.__dict__.setdefault(self._history_name, [])\n",
        "            history.append(instance.__dict__[self._name])\n",
        "        else:\n",
        "            instance.__dict__[self._history_name] = []\n",
        "        instance.__dict__[self._name] = value"
      ],
      "metadata": {
        "id": "5b2vLtcPvkeE"
      },
      "execution_count": 5,
      "outputs": []
    },
    {
      "cell_type": "code",
      "source": [
        "class StockPrice:\n",
        "    price = HistoryTracking()\n",
        "\n",
        "    def __init__(self, name, price):\n",
        "        self.name = name\n",
        "        self.price = price\n",
        "\n",
        "    def get_price_history(self):\n",
        "        return self.__dict__.get('_price_history', [])"
      ],
      "metadata": {
        "colab": {
          "base_uri": "https://localhost:8080/"
        },
        "id": "MmDJYa59vngj",
        "outputId": "c8418826-6c0b-438f-9d5d-374d52fa162c"
      },
      "execution_count": 6,
      "outputs": [
        {
          "output_type": "stream",
          "name": "stdout",
          "text": [
            "__set_name__ called: owner=<class '__main__.StockPrice'>, name=price\n"
          ]
        }
      ]
    },
    {
      "cell_type": "code",
      "source": [
        "stock = StockPrice(\"AAPL\", 200)\n",
        "\n",
        "assert stock.price == 200\n",
        "\n",
        "stock.price = 210\n",
        "\n",
        "assert stock.price == 210\n",
        "\n",
        "stock.price = 225\n",
        "\n",
        "assert stock.price == 225\n",
        "assert stock.get_price_history() == [200, 210]\n",
        "\n",
        "stock.price = 215\n",
        "\n",
        "assert stock.price == 215\n",
        "assert stock.get_price_history() == [200, 210, 225]"
      ],
      "metadata": {
        "id": "pOcvH8havndF"
      },
      "execution_count": 7,
      "outputs": []
    },
    {
      "cell_type": "markdown",
      "source": [
        "b. Implement a descriptor that logs the access to an attribute, along with the time and value, into a log file.\n"
      ],
      "metadata": {
        "id": "XKxwRvYGEMUR"
      }
    },
    {
      "cell_type": "code",
      "source": [
        "import time\n",
        "\n",
        "class FileLoggingDescriptor:\n",
        "    def __init__(self, log_file):\n",
        "        self._log_file = log_file\n",
        "\n",
        "    def __set_name__(self, owner, name):\n",
        "        print(f\"__set_name__ called: owner={owner}, name={name}\")\n",
        "        self._name = name\n",
        "\n",
        "    def __get__(self, instance, owner):\n",
        "        value = instance.__dict__.get(self._name, \"no value\")\n",
        "        with open(self._log_file, \"a\") as f:\n",
        "            f.write(f\"{time.ctime()}: Accessed value '{value}'\\n\")\n",
        "        return value\n",
        "\n",
        "    def __set__(self, instance, value):\n",
        "        old_value = instance.__dict__.get(self._name, \"no value\")\n",
        "        instance.__dict__[self._name] = value\n",
        "        with open(self._log_file, \"a\") as f:\n",
        "            f.write(f\"{time.ctime()}: Modified value from '{old_value}' to '{value}'\\n\")"
      ],
      "metadata": {
        "id": "TKFnVLBIvna3"
      },
      "execution_count": 8,
      "outputs": []
    },
    {
      "cell_type": "code",
      "source": [
        "class Person:\n",
        "    name = FileLoggingDescriptor(log_file=\"access_log.txt\")\n",
        "\n",
        "    def __init__(self, name):\n",
        "        self.name = name"
      ],
      "metadata": {
        "colab": {
          "base_uri": "https://localhost:8080/"
        },
        "id": "t_B6p6OC4mIb",
        "outputId": "c43af64f-1d9f-4b88-c54e-e4e0301af416"
      },
      "execution_count": 9,
      "outputs": [
        {
          "output_type": "stream",
          "name": "stdout",
          "text": [
            "__set_name__ called: owner=<class '__main__.Person'>, name=name\n"
          ]
        }
      ]
    },
    {
      "cell_type": "code",
      "source": [
        "obj = Person(\"John Doe\")\n",
        "\n",
        "print(obj.name) # \"John Doe\"\n",
        "\n",
        "obj.name = \"Jane Dane\"\n",
        "\n",
        "print(obj.name) # \"Jane Dane\"\n",
        "\n",
        "with open(\"access_log.txt\", \"r\") as f:\n",
        "    print(f.read())"
      ],
      "metadata": {
        "colab": {
          "base_uri": "https://localhost:8080/"
        },
        "id": "yzzgoxwM4qLh",
        "outputId": "5c1121b1-e7df-481a-a439-0cc03758d70b"
      },
      "execution_count": 10,
      "outputs": [
        {
          "output_type": "stream",
          "name": "stdout",
          "text": [
            "John Doe\n",
            "Jane Dane\n",
            "Tue Apr 15 15:53:07 2025: Modified value from 'no value' to 'John Doe'\n",
            "Tue Apr 15 15:53:07 2025: Accessed value 'John Doe'\n",
            "Tue Apr 15 15:53:07 2025: Modified value from 'John Doe' to 'Jane Dane'\n",
            "Tue Apr 15 15:53:07 2025: Accessed value 'Jane Dane'\n",
            "\n"
          ]
        }
      ]
    },
    {
      "cell_type": "markdown",
      "source": [
        "## Problem 4 [25 points]\n",
        "\n",
        "Write a function `build_logging_class` that dynamically generates a new class which wraps all public methods of a given base class with logging behavior.\n",
        "\n",
        "The logging should:\n",
        "\n",
        "- Print a log message before the method is called, showing its name and arguments.\n",
        "- Print a log message after the method is called, showing the result.\n",
        "- Exclude dunder methods (`__init__`, `__str__`, etc.).\n",
        "- Allow injection of a custom logging function (defaults to print).\n",
        "\n",
        "#### (Optional) Bonus requirements\n",
        "\n",
        "- Support a logging level prefix like [ERROR], [INFO], [DEBUG].\n",
        "- Allow logging to be written to a file.\n",
        "- Support toggling logging on/off.\n",
        "\n"
      ],
      "metadata": {
        "id": "XZ4GpowevoHI"
      }
    },
    {
      "cell_type": "code",
      "source": [
        "from typing import Callable\n",
        "from functools import wraps\n",
        "\n",
        "def build_logging_class(class_name: str, base_class: type, logger: Callable = print) -> type:\n",
        "    wrapped_methods = {}\n",
        "\n",
        "    for method_name in dir(base_class):\n",
        "        if method_name.startswith(\"_\"):\n",
        "            continue\n",
        "\n",
        "        method = getattr(base_class, method_name)\n",
        "\n",
        "        if callable(method):\n",
        "            def wrap_method(func, name=method_name):\n",
        "                @wraps(func)\n",
        "                def logged_method(self, *args, **kwargs):\n",
        "                    logger(f\"[LOG] Calling: `{name}` with args={args} kwargs={kwargs}\")\n",
        "                    result = func(self, *args, **kwargs)\n",
        "                    logger(f\"[LOG] Result of `{name}`: {result}\")\n",
        "                    return result\n",
        "                return logged_method\n",
        "\n",
        "            wrapped_methods[method_name] = wrap_method(method)\n",
        "\n",
        "    return type(class_name, (base_class,), wrapped_methods)"
      ],
      "metadata": {
        "id": "CsUOBL3hFvUS"
      },
      "execution_count": 11,
      "outputs": []
    },
    {
      "cell_type": "code",
      "source": [
        "class Calculator:\n",
        "    def add(self, x, y): return x + y\n",
        "    def mul(self, x, y): return x * y\n",
        "\n",
        "LoggingCalculator = build_logging_class(\"LoggingCalculator\", Calculator)\n",
        "\n",
        "calc = LoggingCalculator()\n",
        "calc.add(2, 3)\n",
        "calc.mul(4, 5)\n",
        "\n",
        "\"\"\"\n",
        "Expected output\n",
        "\n",
        "[LOG] Calling: `add` with args=(2, 3) kwargs={}\n",
        "[LOG] Result of `add`: 5\n",
        "[LOG] Calling: `mul` with args=(4, 5) kwargs={}\n",
        "[LOG] Result of `mul`: 20\n",
        "\"\"\""
      ],
      "metadata": {
        "colab": {
          "base_uri": "https://localhost:8080/",
          "height": 105
        },
        "id": "HfZPbPU4voV5",
        "outputId": "6ce35124-c8af-4a46-9c39-56d3613776c0"
      },
      "execution_count": 12,
      "outputs": [
        {
          "output_type": "stream",
          "name": "stdout",
          "text": [
            "[LOG] Calling: `add` with args=(2, 3) kwargs={}\n",
            "[LOG] Result of `add`: 5\n",
            "[LOG] Calling: `mul` with args=(4, 5) kwargs={}\n",
            "[LOG] Result of `mul`: 20\n"
          ]
        },
        {
          "output_type": "execute_result",
          "data": {
            "text/plain": [
              "'\\nExpected output\\n\\n[LOG] Calling: `add` with args=(2, 3) kwargs={}\\n[LOG] Result of `add`: 5\\n[LOG] Calling: `mul` with args=(4, 5) kwargs={}\\n[LOG] Result of `mul`: 20\\n'"
            ],
            "application/vnd.google.colaboratory.intrinsic+json": {
              "type": "string"
            }
          },
          "metadata": {},
          "execution_count": 12
        }
      ]
    }
  ]
}
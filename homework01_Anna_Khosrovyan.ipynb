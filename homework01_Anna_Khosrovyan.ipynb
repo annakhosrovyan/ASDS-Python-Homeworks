{
  "nbformat": 4,
  "nbformat_minor": 0,
  "metadata": {
    "colab": {
      "provenance": []
    },
    "kernelspec": {
      "name": "python3",
      "display_name": "Python 3"
    },
    "language_info": {
      "name": "python"
    }
  },
  "cells": [
    {
      "cell_type": "markdown",
      "source": [
        "# Homework 01\n",
        "## Anna Khosrovyan"
      ],
      "metadata": {
        "id": "w9gaZEdSsMvD"
      }
    },
    {
      "cell_type": "markdown",
      "source": [
        "### Problem 1"
      ],
      "metadata": {
        "id": "XlosW9E6rxNT"
      }
    },
    {
      "cell_type": "markdown",
      "source": [
        "Write a function `make_polynomial(*coefficients)` that takes an arbitrary number of coefficients and returns a function representing the polynomial. The returned function should compute the polynomial’s value when called with a specific $x$.  \n"
      ],
      "metadata": {
        "id": "kO2e2VX0sp-J"
      }
    },
    {
      "cell_type": "code",
      "source": [
        "def make_polynomial(*coefficients):\n",
        "  def calculate_polynomial(x):\n",
        "    return sum(c * x**idx for idx, c in enumerate(coefficients))\n",
        "\n",
        "  for i in coefficients:\n",
        "    if not isinstance(i, (int, float)):\n",
        "      raise TypeError(\"All coefficients must be numeric.\")\n",
        "\n",
        "  return calculate_polynomial"
      ],
      "metadata": {
        "id": "c1QXnlNTtAYA"
      },
      "execution_count": 1,
      "outputs": []
    },
    {
      "cell_type": "code",
      "source": [
        "poly = make_polynomial(2, 3, 5)  # Represents 2 + 3x + 5x^2\n",
        "print(poly(0))  # 2\n",
        "print(poly(1))  # 10"
      ],
      "metadata": {
        "colab": {
          "base_uri": "https://localhost:8080/"
        },
        "id": "Y430bqetvxIQ",
        "outputId": "86e2dcf6-dea6-490a-d4e1-b20f042a452e"
      },
      "execution_count": 2,
      "outputs": [
        {
          "output_type": "stream",
          "name": "stdout",
          "text": [
            "2\n",
            "10\n"
          ]
        }
      ]
    },
    {
      "cell_type": "markdown",
      "source": [
        "### Problem 2"
      ],
      "metadata": {
        "id": "foN6hgwsr0Ah"
      }
    },
    {
      "cell_type": "markdown",
      "source": [
        "Write a function that calculates the $n$-th derivative of a polynomial. The polynomial can be represented as a list of coefficients, where the index corresponds to the power of $x$. For example, $[3, 1, 2]$ represents the polynomial $3 + x + 2x^2$.  "
      ],
      "metadata": {
        "id": "DgELeU5NxD_z"
      }
    },
    {
      "cell_type": "code",
      "source": [
        "def nth_derivative(coefficients, n):\n",
        "  def derivative(coefficients):\n",
        "    derivative_coef = [idx * c for idx, c in enumerate(coefficients[1:], start=1)]\n",
        "    if derivative_coef:\n",
        "      return derivative_coef\n",
        "    return [0]\n",
        "\n",
        "  for i in range(n):\n",
        "    coefficients = derivative(coefficients)\n",
        "\n",
        "  return coefficients"
      ],
      "metadata": {
        "id": "rm3qm2S7r1n3"
      },
      "execution_count": 3,
      "outputs": []
    },
    {
      "cell_type": "code",
      "source": [
        "print(nth_derivative([3, 1, 2], 1))  # [1, 4] (Derivative of 3 + x + 2x^2 is 1 + 4x)\n",
        "print(nth_derivative([3, 1, 2], 2))  # [4] (Second derivative is 4)\n",
        "print(nth_derivative([3, 1, 2], 3))  # [0] (Third derivative is 0)"
      ],
      "metadata": {
        "colab": {
          "base_uri": "https://localhost:8080/"
        },
        "id": "aqVDo9WTzD6-",
        "outputId": "7d54c73b-a245-4eeb-96df-7d814ad50cff"
      },
      "execution_count": 4,
      "outputs": [
        {
          "output_type": "stream",
          "name": "stdout",
          "text": [
            "[1, 4]\n",
            "[4]\n",
            "[0]\n"
          ]
        }
      ]
    },
    {
      "cell_type": "markdown",
      "source": [
        "### Problem 3"
      ],
      "metadata": {
        "id": "bv92SNBkr3CX"
      }
    },
    {
      "cell_type": "markdown",
      "source": [
        "Write a function `matrix_power(matrix, n)` that computes the $n$-th power of a given square matrix.  \n",
        "\n",
        "- Assume $n$ is a non-negative integer.  \n",
        "- If $n = 0$, return the identity matrix of the same size.  \n",
        "- If $n = 1$, return the matrix itself.  \n",
        "- For $n > 1$, compute the matrix product repeatedly."
      ],
      "metadata": {
        "id": "9zVKB48-RxWK"
      }
    },
    {
      "cell_type": "code",
      "source": [
        "def identity_matrix(size):\n",
        "    return [[1 if i == j else 0 for j in range(size)] for i in range(size)]"
      ],
      "metadata": {
        "id": "BycQIUVYVFIU"
      },
      "execution_count": 5,
      "outputs": []
    },
    {
      "cell_type": "code",
      "source": [
        "def multiply_square_matrices(matrix_1, matrix_2):\n",
        "  size = len(matrix_1)\n",
        "  res = [[0] * size for _ in range(size)]\n",
        "  for i in range(size):\n",
        "    for j in range(size):\n",
        "      res[i][j] = sum(matrix_1[i][k] * matrix_2[k][j] for k in range(size))\n",
        "\n",
        "  return res"
      ],
      "metadata": {
        "id": "nLbwwJ7FVWir"
      },
      "execution_count": 6,
      "outputs": []
    },
    {
      "cell_type": "code",
      "source": [
        "def matrix_power(matrix, n):\n",
        "  if n == 0:\n",
        "    return identity_matrix(len(matrix))\n",
        "  if n == 1:\n",
        "    return matrix\n",
        "  return multiply_square_matrices(matrix, matrix_power(matrix, n - 1))"
      ],
      "metadata": {
        "id": "b0vix7UBRwpY"
      },
      "execution_count": 7,
      "outputs": []
    },
    {
      "cell_type": "code",
      "source": [
        "matrix = [\n",
        "    [1, 2],\n",
        "    [3, 4]\n",
        "]\n",
        "print(matrix_power(matrix, 3)) # [[37, 54], [81, 118]]\n",
        "print(matrix_power(matrix, 0)) # [[1, 0], [0, 1]]"
      ],
      "metadata": {
        "colab": {
          "base_uri": "https://localhost:8080/"
        },
        "id": "EVS-JcqBTo0v",
        "outputId": "363bb5da-8a21-4e78-c012-9b8f9974766c"
      },
      "execution_count": 8,
      "outputs": [
        {
          "output_type": "stream",
          "name": "stdout",
          "text": [
            "[[37, 54], [81, 118]]\n",
            "[[1, 0], [0, 1]]\n"
          ]
        }
      ]
    },
    {
      "cell_type": "markdown",
      "source": [
        "### Problem 4"
      ],
      "metadata": {
        "id": "S8RKyqB0r2-4"
      }
    },
    {
      "cell_type": "markdown",
      "source": [
        "Write a function `compose(*funcs)` that takes an arbitrary number of single-argument functions and returns a new function that is the composition of the input functions. The composed function should apply each function in the order they were passed.  "
      ],
      "metadata": {
        "id": "mekm_WZXbVJe"
      }
    },
    {
      "cell_type": "code",
      "source": [
        "def double(x):\n",
        "    return x * 2\n",
        "\n",
        "def increment(x):\n",
        "    return x + 1\n",
        "\n",
        "def square(x):\n",
        "    return x * x"
      ],
      "metadata": {
        "id": "u5ZibiolcFSw"
      },
      "execution_count": 9,
      "outputs": []
    },
    {
      "cell_type": "code",
      "source": [
        "def compose(*funcs):\n",
        "  def calculate(x):\n",
        "    for func in reversed(funcs):\n",
        "      x = func(x)\n",
        "    return x\n",
        "\n",
        "  return calculate"
      ],
      "metadata": {
        "id": "VBQqp4SIcHMd"
      },
      "execution_count": 10,
      "outputs": []
    },
    {
      "cell_type": "code",
      "source": [
        "composed = compose(square, increment, double)\n",
        "print(composed(3))  # square(increment(double(3))) = 49"
      ],
      "metadata": {
        "colab": {
          "base_uri": "https://localhost:8080/"
        },
        "id": "kq79FhxSbOcm",
        "outputId": "f7a273dc-0eaa-4ff4-f77a-d587289cba50"
      },
      "execution_count": 11,
      "outputs": [
        {
          "output_type": "stream",
          "name": "stdout",
          "text": [
            "49\n"
          ]
        }
      ]
    },
    {
      "cell_type": "markdown",
      "source": [
        "### Problem 5"
      ],
      "metadata": {
        "id": "s-KapvY1r28x"
      }
    },
    {
      "cell_type": "markdown",
      "source": [
        "Write a Python recursive function to generate all possible combinations of a set of elements.\n",
        "\n",
        "**Note:** This will be your implementation of `itertools.combinations` function.\n",
        "**Note:** It is not required, but this function can be a generator function.\n",
        "\n"
      ],
      "metadata": {
        "id": "QHEQeuN-hJF3"
      }
    },
    {
      "cell_type": "code",
      "source": [
        "def generate_combinations(elements, k):\n",
        "  if k > len(elements):\n",
        "      return\n",
        "  if k == 0:\n",
        "      yield []\n",
        "      return\n",
        "\n",
        "  for comb in generate_combinations(elements[1:], k - 1):\n",
        "    yield [elements[0]] + comb\n",
        "  yield from  generate_combinations(elements[1:], k)"
      ],
      "metadata": {
        "id": "VDx7G2oIhIcV"
      },
      "execution_count": 12,
      "outputs": []
    },
    {
      "cell_type": "code",
      "source": [
        "elements = [1, 2, 3, 4]\n",
        "k = 3\n",
        "combinations = generate_combinations(elements, k)\n",
        "print(list(combinations)) # [(1, 2, 3), (1, 2, 4), (1, 3, 4), (2, 3, 4)]"
      ],
      "metadata": {
        "colab": {
          "base_uri": "https://localhost:8080/"
        },
        "id": "WwdvhPh8hYx_",
        "outputId": "51c6fa55-e1cf-414e-f733-d451fd414ac8"
      },
      "execution_count": 13,
      "outputs": [
        {
          "output_type": "stream",
          "name": "stdout",
          "text": [
            "[[1, 2, 3], [1, 2, 4], [1, 3, 4], [2, 3, 4]]\n"
          ]
        }
      ]
    },
    {
      "cell_type": "markdown",
      "source": [
        "### Problem 6"
      ],
      "metadata": {
        "id": "Csgzo9Dar2ze"
      }
    },
    {
      "cell_type": "markdown",
      "source": [
        "A perfect number is a positive integer that is equal to the sum of its positive divisors, excluding the number itself. For example, $6$ is a perfect number.\n",
        "\n",
        "Write a Python generator function that generates all the perfect numbers up to a given limit.\n"
      ],
      "metadata": {
        "id": "iFtyDl16y_n_"
      }
    },
    {
      "cell_type": "code",
      "source": [
        "def is_perfect(number):\n",
        "  divisors = [i for i in range(1, number) if number % i == 0]\n",
        "\n",
        "  return number == sum(divisors)"
      ],
      "metadata": {
        "id": "oGxgnINgzRrR"
      },
      "execution_count": 14,
      "outputs": []
    },
    {
      "cell_type": "code",
      "source": [
        "def generate_perfect_numbers(limit):\n",
        "  for i in range(1, limit):\n",
        "    if is_perfect(i):\n",
        "      yield i"
      ],
      "metadata": {
        "id": "y0V5hAmUzH8O"
      },
      "execution_count": 15,
      "outputs": []
    },
    {
      "cell_type": "code",
      "source": [
        "for num in generate_perfect_numbers(100):\n",
        "    print(num, end=\" \") # 6 28"
      ],
      "metadata": {
        "colab": {
          "base_uri": "https://localhost:8080/"
        },
        "id": "ixFCWDIP0kvc",
        "outputId": "ed1a6821-5a6c-410e-daca-b5e3bae355e4"
      },
      "execution_count": 16,
      "outputs": [
        {
          "output_type": "stream",
          "name": "stdout",
          "text": [
            "6 28 "
          ]
        }
      ]
    },
    {
      "cell_type": "markdown",
      "source": [
        "### Problem 7"
      ],
      "metadata": {
        "id": "AKGxMp4hr2nv"
      }
    },
    {
      "cell_type": "markdown",
      "source": [
        "An Armstrong number is a number that is the sum of its own digits each raised to the power of the number of digits. For example, $153$ is an Armstrong number as $153 = 1 ^ 3 + 5 ^ 3 + 3 ^ 3$.\n",
        "\n",
        "Write a Python generator function that generates all the Armstrong numbers up to a given limit."
      ],
      "metadata": {
        "id": "5uOJmvjP009E"
      }
    },
    {
      "cell_type": "code",
      "source": [
        "def is_armstrong_number(num):\n",
        "  power = len(str(num))\n",
        "  num_copy = num\n",
        "  digits_power = []\n",
        "\n",
        "  while num_copy:\n",
        "    digits_power.append((num_copy % 10) ** power)\n",
        "    num_copy = num_copy // 10\n",
        "\n",
        "  return sum(digits_power) == num"
      ],
      "metadata": {
        "id": "cKjmXRg71Fdv"
      },
      "execution_count": 17,
      "outputs": []
    },
    {
      "cell_type": "code",
      "source": [
        "def generate_armstrong_numbers(limit):\n",
        "    for i in range(1, limit):\n",
        "      if is_armstrong_number(i):\n",
        "        yield i"
      ],
      "metadata": {
        "id": "cU0anjFf1FaU"
      },
      "execution_count": 18,
      "outputs": []
    },
    {
      "cell_type": "code",
      "source": [
        "for num in generate_armstrong_numbers(1000):\n",
        "    print(num, end=\" \") # 1 2 3 4 5 6 7 8 9 153 370 371 407"
      ],
      "metadata": {
        "id": "VhTWHWQVr9sw",
        "colab": {
          "base_uri": "https://localhost:8080/"
        },
        "outputId": "d0731c2f-1bc4-454b-ef18-3bee3ad28bc3"
      },
      "execution_count": 19,
      "outputs": [
        {
          "output_type": "stream",
          "name": "stdout",
          "text": [
            "1 2 3 4 5 6 7 8 9 153 370 371 407 "
          ]
        }
      ]
    },
    {
      "cell_type": "markdown",
      "source": [
        "### Problem 8"
      ],
      "metadata": {
        "id": "8GTn1iZ5r-cC"
      }
    },
    {
      "cell_type": "markdown",
      "source": [
        "**Note:** The following problem can be solved using generator functions in the Python standard library.\n",
        "\n",
        "Write a Python function that takes a list of numbers and returns a list of all the triples of numbers in the list that form a Pythagorean triplet.\n"
      ],
      "metadata": {
        "id": "5wEVgH0W3Gpf"
      }
    },
    {
      "cell_type": "code",
      "source": [
        "def check_pythagorean_triplet(a, b, c):\n",
        "  return a ** 2 + b ** 2 == c ** 2"
      ],
      "metadata": {
        "id": "7VaO5RU33lJQ"
      },
      "execution_count": 20,
      "outputs": []
    },
    {
      "cell_type": "code",
      "source": [
        "def pythagorean_triplets(numbers):\n",
        "    for i in range(len(numbers) - 2):\n",
        "      for j in range(i + 1, len(numbers) - 1):\n",
        "        for k in range(j + 1, len(numbers)):\n",
        "          if check_pythagorean_triplet(numbers[i], numbers[j], numbers[k]):\n",
        "            yield (numbers[i], numbers[j], numbers[k])"
      ],
      "metadata": {
        "id": "m_asrF0N3Eet"
      },
      "execution_count": 21,
      "outputs": []
    },
    {
      "cell_type": "code",
      "source": [
        "print(list(pythagorean_triplets([3, 4, 5, 6, 7, 8, 9, 10]))) # [(3, 4, 5), (6, 8, 10)]"
      ],
      "metadata": {
        "colab": {
          "base_uri": "https://localhost:8080/"
        },
        "id": "hFl4WOJN4Hgb",
        "outputId": "0d64052a-7893-4e88-add3-fa7d044c684f"
      },
      "execution_count": 22,
      "outputs": [
        {
          "output_type": "stream",
          "name": "stdout",
          "text": [
            "[(3, 4, 5), (6, 8, 10)]\n"
          ]
        }
      ]
    },
    {
      "cell_type": "markdown",
      "source": [
        "### Problem 9"
      ],
      "metadata": {
        "id": "lqYET_ikr-Y6"
      }
    },
    {
      "cell_type": "markdown",
      "source": [
        "Write a Python decorator function that caches the output of a function. It should return the cached value if the function is called again with the same arguments. Provide an example usage of the decorator."
      ],
      "metadata": {
        "id": "UeXYFts5L0Ak"
      }
    },
    {
      "cell_type": "code",
      "source": [
        "def cache(func):\n",
        "  CACHE = {}\n",
        "  def wrapper(*args, **kwargs):\n",
        "    key = (args, frozenset(kwargs.items()))\n",
        "    if key not in CACHE:\n",
        "      # print(f\"Computing new value for {args}, {kwargs}\")\n",
        "      CACHE[key] =  func(*args, **kwargs)\n",
        "    return CACHE[key]\n",
        "  return wrapper"
      ],
      "metadata": {
        "id": "F1mYtLJsL7Vi"
      },
      "execution_count": 23,
      "outputs": []
    },
    {
      "cell_type": "code",
      "source": [
        "@cache\n",
        "def fibonacci(n):\n",
        "  if n == 0:\n",
        "    return 0\n",
        "  if n == 1:\n",
        "    return 1\n",
        "  return fibonacci(n - 1) + fibonacci(n - 2)"
      ],
      "metadata": {
        "id": "K27ywlAkL7SF"
      },
      "execution_count": 24,
      "outputs": []
    },
    {
      "cell_type": "code",
      "source": [
        "print(fibonacci(10)) # 55\n",
        "print(fibonacci(10)) # 55 (this is a cached value)\n"
      ],
      "metadata": {
        "colab": {
          "base_uri": "https://localhost:8080/"
        },
        "id": "G4rMWiLjSWWC",
        "outputId": "4bcaa929-1e0a-434e-8aad-657b44bd7330"
      },
      "execution_count": 25,
      "outputs": [
        {
          "output_type": "stream",
          "name": "stdout",
          "text": [
            "55\n",
            "55\n"
          ]
        }
      ]
    },
    {
      "cell_type": "markdown",
      "source": [
        "### Problem 10"
      ],
      "metadata": {
        "id": "YlyB90q4r-W-"
      }
    },
    {
      "cell_type": "markdown",
      "source": [
        "Write a Python decorator function that limits the number of times a function can be called. Provide an example usage of the decorator.\n",
        "\n",
        "### Example\n",
        "\n",
        "```python\n",
        "def limit_calls(max_calls):\n",
        "    pass\n",
        "\n",
        "@limit_calls(3)\n",
        "def greet():\n",
        "    print(\"Hello world!\")\n",
        "\n",
        "greet() # Hello world!\n",
        "greet() # Hello world!\n",
        "greet() # Hello world!\n",
        "greet() # Function `greet` can only be called 3 times.\n",
        "```"
      ],
      "metadata": {
        "id": "ex7nivptXued"
      }
    },
    {
      "cell_type": "code",
      "source": [
        "def limit_calls(max_calls):\n",
        "  def calls(func):\n",
        "    call_num = max_calls\n",
        "    def wrapper(*args, **kwargs):\n",
        "      nonlocal call_num\n",
        "      if call_num != 0:\n",
        "        call_num -= 1\n",
        "        return func(*args, **kwargs)\n",
        "      print(f\"Function `{func.__name__}` can only be called {max_calls} times.\")\n",
        "\n",
        "    return wrapper\n",
        "  return calls"
      ],
      "metadata": {
        "id": "sYULLj6ysBdC"
      },
      "execution_count": 26,
      "outputs": []
    },
    {
      "cell_type": "code",
      "source": [
        "@limit_calls(3)\n",
        "def greet():\n",
        "    print(\"Hello world!\")\n",
        "\n",
        "greet() # Hello world!\n",
        "greet() # Hello world!\n",
        "greet() # Hello world!\n",
        "greet() # Function `greet` can only be called 3 times."
      ],
      "metadata": {
        "colab": {
          "base_uri": "https://localhost:8080/"
        },
        "id": "0jomFn_kZKn4",
        "outputId": "c021ceaf-c003-46a3-9593-e3c85169574f"
      },
      "execution_count": 27,
      "outputs": [
        {
          "output_type": "stream",
          "name": "stdout",
          "text": [
            "Hello world!\n",
            "Hello world!\n",
            "Hello world!\n",
            "Function `greet` can only be called 3 times.\n"
          ]
        }
      ]
    },
    {
      "cell_type": "code",
      "source": [],
      "metadata": {
        "id": "FmBAcoj8ZNAW"
      },
      "execution_count": 27,
      "outputs": []
    }
  ]
}